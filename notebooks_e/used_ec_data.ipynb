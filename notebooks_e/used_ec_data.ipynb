{
 "cells": [
  {
   "cell_type": "code",
   "execution_count": 40,
   "id": "d735f48c",
   "metadata": {},
   "outputs": [],
   "source": [
    "import os\n",
    "import pandas as pd\n",
    "\n",
    "# Function to extract user number from filename\n",
    "def user_number_to_sort(filename):\n",
    "    \"\"\"Extracts numeric part from filenames like 'U123.csv' for proper sorting\"\"\"\n",
    "    if filename.endswith('.csv'):\n",
    "        try:\n",
    "            # Remove 'U' and '.csv', then convert to number\n",
    "            return int(filename[1:-4])\n",
    "        except ValueError:\n",
    "            return 0  # Handle unexpected formats\n",
    "    return 0  # For non-CSV files"
   ]
  },
  {
   "cell_type": "code",
   "execution_count": 53,
   "id": "e5e98d62",
   "metadata": {},
   "outputs": [
    {
     "name": "stdout",
     "output_type": "stream",
     "text": [
      "First 20 entries:\n",
      "   Section                                           Division User Filename  \\\n",
      "0        A  A01 Crop and animal production, hunting and re...   U1   U1.csv   \n",
      "1        A  A01 Crop and animal production, hunting and re...   U2   U2.csv   \n",
      "2        A  A01 Crop and animal production, hunting and re...   U3   U3.csv   \n",
      "3        A  A01 Crop and animal production, hunting and re...   U4   U4.csv   \n",
      "4        A                           A02 Forestry and logging   U5   U5.csv   \n",
      "5        A                           A02 Forestry and logging   U6   U6.csv   \n",
      "6        A                           A02 Forestry and logging   U7   U7.csv   \n",
      "7        A                           A02 Forestry and logging   U8   U8.csv   \n",
      "8        A                           A02 Forestry and logging   U9   U9.csv   \n",
      "9        A                           A02 Forestry and logging  U10  U10.csv   \n",
      "10       C                   C10 Manufacture of food products  U11  U11.csv   \n",
      "11       C                   C10 Manufacture of food products  U12  U12.csv   \n",
      "12       C                   C10 Manufacture of food products  U13  U13.csv   \n",
      "13       C                   C10 Manufacture of food products  U14  U14.csv   \n",
      "14       C                   C10 Manufacture of food products  U15  U15.csv   \n",
      "15       C                   C10 Manufacture of food products  U16  U16.csv   \n",
      "16       C                   C10 Manufacture of food products  U17  U17.csv   \n",
      "17       C                   C10 Manufacture of food products  U18  U18.csv   \n",
      "18       C                       C11 Manufacture of beverages  U19  U19.csv   \n",
      "19       C                       C11 Manufacture of beverages  U20  U20.csv   \n",
      "\n",
      "    Row Count  \n",
      "0      191862  \n",
      "1      160511  \n",
      "2      121861  \n",
      "3      181439  \n",
      "4       24192  \n",
      "5      160511  \n",
      "6      194111  \n",
      "7      132742  \n",
      "8      216959  \n",
      "9      152593  \n",
      "10     181439  \n",
      "11      95940  \n",
      "12     195743  \n",
      "13      85439  \n",
      "14     158207  \n",
      "15     157394  \n",
      "16     175596  \n",
      "17     115259  \n",
      "18     152203  \n",
      "19     181439  \n",
      "\n",
      "Total files found: 386\n"
     ]
    }
   ],
   "source": [
    "\n",
    "\n",
    "# Extract file structure\n",
    "root_path = 'C:/Users/dmarc/Desktop/EWELD_Project/EWELD/Electricity Consumption/'\n",
    "\n",
    "# Initialize metadata container\n",
    "metadata_ec = {\n",
    "    'Section': [],\n",
    "    'Division': [],\n",
    "    'User': [],\n",
    "    'Filename': [],\n",
    "    'Row Count': []\n",
    "}\n",
    "\n",
    "# Process directories\n",
    "for section in sorted(os.listdir(root_path)):\n",
    "    section_path = os.path.join(root_path, section)\n",
    "    \n",
    "    if not os.path.isdir(section_path):\n",
    "        continue  # Skip files\n",
    "    \n",
    "    for division in sorted(os.listdir(section_path)):\n",
    "        division_path = os.path.join(section_path, division)\n",
    "        \n",
    "        if not os.path.isdir(division_path):\n",
    "            continue  # Skip files\n",
    "        \n",
    "        # Get and sort CSV files using our custom function\n",
    "        all_files = os.listdir(division_path)\n",
    "        sorted_files = sorted(all_files, key=user_number_to_sort)\n",
    "        \n",
    "        # Process each CSV file\n",
    "        for filename in sorted_files:\n",
    "            if filename.endswith('.csv'):\n",
    "                file_path = os.path.join(division_path, filename)\n",
    "                \n",
    "                # Count rows (excluding header)\n",
    "                with open(file_path, 'r') as f:\n",
    "                    row_count = sum(1 for line in f) - 1  # Subtract 1 for header\n",
    "                \n",
    "                # Append metadata\n",
    "                metadata_ec['Section'].append(section)\n",
    "                metadata_ec['Division'].append(division)\n",
    "                metadata_ec['User'].append(filename[:-4])  # Remove .csv\n",
    "                metadata_ec['Filename'].append(filename)\n",
    "                metadata_ec['Row Count'].append(row_count)\n",
    "\n",
    "# Create DataFrame\n",
    "metadata_df_ec = pd.DataFrame(metadata_ec)\n",
    "\n",
    "# Show results\n",
    "print(\"First 20 entries:\")\n",
    "print(metadata_df_ec.head(20))\n",
    "print(\"\\nTotal files found:\", len(metadata_df_ec))\n"
   ]
  },
  {
   "cell_type": "markdown",
   "id": "d35e70b5",
   "metadata": {},
   "source": [
    "Create Dataframe for folders name by unique Div_Sec from metadata_df_ec"
   ]
  },
  {
   "cell_type": "code",
   "execution_count": null,
   "id": "5b11a2dd",
   "metadata": {},
   "outputs": [
    {
     "name": "stdout",
     "output_type": "stream",
     "text": [
      "                                             Division  \\\n",
      "0   A01 Crop and animal production, hunting and re...   \n",
      "4                            A02 Forestry and logging   \n",
      "10                   C10 Manufacture of food products   \n",
      "18                       C11 Manufacture of beverages   \n",
      "20                        C13 Manufacture of textiles   \n",
      "\n",
      "                                        Division Name Div_Sec Division code  \n",
      "0   Crop and animal production, hunting and relate...     A01            01  \n",
      "4                                Forestry and logging     A02            02  \n",
      "10                       Manufacture of food products     C10            10  \n",
      "18                           Manufacture of beverages     C11            11  \n",
      "20                            Manufacture of textiles     C13            13  \n",
      "\n",
      "metadata_df_ec rows no: 386\n",
      "\n",
      "Unique Div_Sec rows no: 45\n"
     ]
    }
   ],
   "source": [
    "metadata_df_ec_name = metadata_df_ec[['Division']].copy()\n",
    "# Division Name (text after the first space)\n",
    "metadata_df_ec_name['Division Name'] = metadata_df_ec_name['Division'].apply(lambda x: x.split(' ', 1)[1])\n",
    "# Div_Sec: first 3 characters\n",
    "metadata_df_ec_name['Div_Sec'] = metadata_df_ec_name['Division'].str[:3]\n",
    "# Division code: last 2 characters of Div_Sec\n",
    "metadata_df_ec_name['Division code'] = metadata_df_ec_name['Div_Sec'].str[1:]\n",
    "\n",
    "#unique values by 'Div_Sec'\n",
    "metadata_df_ec_unique = metadata_df_ec_name.drop_duplicates(subset=['Div_Sec'])\n",
    "print(metadata_df_ec_unique.head())\n",
    "\n",
    "print (\"\\nmetadata_df_ec rows no:\", len(metadata_df_ec_name))\n",
    "\n",
    "unique_Div_Sec = metadata_df_ec_name['Div_Sec'].unique()\n",
    "\n",
    "print (\"\\nUnique Div_Sec rows no:\", len(unique_Div_Sec))"
   ]
  },
  {
   "cell_type": "code",
   "execution_count": 45,
   "id": "cb35b717",
   "metadata": {},
   "outputs": [
    {
     "name": "stdout",
     "output_type": "stream",
     "text": [
      "['Accommodation', 'Activities auxiliary to financial service and insurance activities', 'Architectural and engineering activities; technical testing and analysis', 'Civil engineering', 'Computer programming, consultancy and related activities', 'Construction of buildings', 'Crop and animal production, hunting and related service activities', 'Education', 'Electricity, gas, steam and air conditioning supply', 'Financial service activities, except insurance and pension funding', 'Food and beverage service activities', 'Forestry and logging', 'Human health activities', 'Manufacture of basic metals', 'Manufacture of beverages', 'Manufacture of chemicals and chemical products', 'Manufacture of computer, electronic and optical products', 'Manufacture of electrical equipment', 'Manufacture of fabricated metal products, except machinery and equipment', 'Manufacture of food products', 'Manufacture of furniture', 'Manufacture of leather and related products', 'Manufacture of machinery and equipment n.e.c', 'Manufacture of motor vehicles, trailers and semi-trailers', 'Manufacture of other non-metallic mineral products', 'Manufacture of paper and paper products', 'Manufacture of pharmaceuticals, medicinal chemical and botanical products', 'Manufacture of rubber and plastics products', 'Manufacture of textiles', 'Manufacture of wearing apparel', 'Manufacture of wood and of products of wood and cork, except furniture; manufacture of articles of straw and plaiting materials', 'Office administrative, office support and other business support activities', 'Other manufacturing', 'Other personal service activities', 'Postal and courier activities', 'Printing and reproduction of recorded media', 'Public administration and defence; compulsory social security', 'Real estate activities', 'Repair and installation of machinery and equipment', 'Residential care activities', 'Security and investigation activities', 'Sewerage', 'Specialized construction activities', 'Warehousing and support activities for transportation', 'Wholesale and retail trade and repair of motor vehicles and motorcycles']\n",
      "\n",
      "Unique Division: 45\n"
     ]
    }
   ],
   "source": [
    "unique_divisions = metadata_df_ec['Division'].unique()\n",
    "division_unique_ec = [division.split(' ', 1)[1] for division in unique_divisions]\n",
    "division_unique_ec_sorted = sorted(division_unique_ec)\n",
    "print(division_unique_ec_sorted)\n",
    "print (\"\\nUnique Division:\", len(division_unique_ec_sorted))"
   ]
  },
  {
   "cell_type": "markdown",
   "id": "96fa99fd",
   "metadata": {},
   "source": [
    "Files appendend"
   ]
  },
  {
   "cell_type": "code",
   "execution_count": 46,
   "id": "f27fc8d5",
   "metadata": {},
   "outputs": [],
   "source": [
    "import os\n",
    "\n",
    "filepath = 'C:/Users/dmarc/Desktop/EWELD_Project/EWELD/Electricity Consumption/'\n",
    "sections = os.listdir(filepath)"
   ]
  },
  {
   "cell_type": "markdown",
   "id": "af4c4fcf",
   "metadata": {},
   "source": [
    "### Generate dataframe with data for electricity consumption"
   ]
  },
  {
   "cell_type": "code",
   "execution_count": 47,
   "id": "93394c8b",
   "metadata": {},
   "outputs": [
    {
     "name": "stdout",
     "output_type": "stream",
     "text": [
      "                  Time    Value User  \\\n",
      "0  2016-07-12 10:30:00  20.3325   U1   \n",
      "1  2016-07-12 10:45:00  16.8611   U1   \n",
      "2  2016-07-12 11:00:00  16.2412   U1   \n",
      "3  2016-07-12 11:15:00  18.8448   U1   \n",
      "4  2016-07-12 11:30:00  17.3570   U1   \n",
      "\n",
      "                                            Division Section  \n",
      "0  A01 Crop and animal production, hunting and re...       A  \n",
      "1  A01 Crop and animal production, hunting and re...       A  \n",
      "2  A01 Crop and animal production, hunting and re...       A  \n",
      "3  A01 Crop and animal production, hunting and re...       A  \n",
      "4  A01 Crop and animal production, hunting and re...       A  \n"
     ]
    }
   ],
   "source": [
    "import pandas as pd\n",
    "\n",
    "dataframes = []\n",
    "\n",
    "for section in sections:\n",
    "    section_path = os.path.join(filepath, section)\n",
    "    if os.path.isdir(section_path):\n",
    "        divisions = os.listdir(section_path)\n",
    "        for division in divisions:\n",
    "            division_path = os.path.join(section_path, division)\n",
    "            if os.path.isdir(division_path):\n",
    "                files = os.listdir(division_path)\n",
    "                csv_files = [f for f in files if f.endswith('.csv')]\n",
    "                for csv_file in csv_files:\n",
    "                    file_path = os.path.join(division_path, csv_file)\n",
    "                    df = pd.read_csv(file_path)\n",
    "                    df['User'] = os.path.splitext(csv_file)[0]      # e.g., 'U1'\n",
    "                    df['Division'] = division                       # e.g., 'Division_01'\n",
    "                    df['Section'] = section                         # e.g., 'Section_A'\n",
    "                    dataframes.append(df)\n",
    "\n",
    "# Combine all into one DataFrame\n",
    "combined_df = pd.concat(dataframes, ignore_index=True)\n",
    "print(combined_df.head())"
   ]
  },
  {
   "cell_type": "code",
   "execution_count": null,
   "id": "98ee0d1d",
   "metadata": {},
   "outputs": [
    {
     "name": "stdout",
     "output_type": "stream",
     "text": [
      "                                            Division  \\\n",
      "0  A01 Crop and animal production, hunting and re...   \n",
      "1  A01 Crop and animal production, hunting and re...   \n",
      "2  A01 Crop and animal production, hunting and re...   \n",
      "3  A01 Crop and animal production, hunting and re...   \n",
      "4  A01 Crop and animal production, hunting and re...   \n",
      "\n",
      "                                       Division Name Div_Sec Division code  \n",
      "0  Crop and animal production, hunting and relate...     A01            01  \n",
      "1  Crop and animal production, hunting and relate...     A01            01  \n",
      "2  Crop and animal production, hunting and relate...     A01            01  \n",
      "3  Crop and animal production, hunting and relate...     A01            01  \n",
      "4  Crop and animal production, hunting and relate...     A01            01  \n"
     ]
    }
   ],
   "source": [
    "'''działa ale za skomplikowane do przeznaczenia'''\n",
    "# import pandas as pd\n",
    "# import re\n",
    "\n",
    "# # Example data\n",
    "# # combined_df = pd.DataFrame({'Division': ['A01 Crop production', 'C28 Manufacture of machinery', 'B15 Food products']})\n",
    "\n",
    "# # Step 1: Extract Division Name (text after the first space)\n",
    "# combined_df['Division Name'] = combined_df['Division'].apply(lambda x: x.split(' ', 1)[1])\n",
    "\n",
    "# # Step 2: Extract Div_Sec (letter + digits part from the start, e.g., 'A01')\n",
    "# combined_df['Div_Sec'] = combined_df['Division'].apply(\n",
    "#     lambda x: re.match(r'[A-Z]\\d+', x).group() if re.match(r'[A-Z]\\d+', x) else ''\n",
    "# )\n",
    "\n",
    "# # Step 3: Extract Division code (only digits part from Div_Sec, e.g., '01')\n",
    "# combined_df['Division code'] = combined_df['Div_Sec'].apply(\n",
    "#     lambda x: re.search(r'\\d+', x).group() if re.search(r'\\d+', x) else ''\n",
    "# )\n",
    "\n",
    "# print(combined_df[['Division', 'Division Name', 'Div_Sec', 'Division code']].head())\n"
   ]
  },
  {
   "cell_type": "markdown",
   "id": "24b138e5",
   "metadata": {},
   "source": [
    "## Add Division Name, Div_Sec - Division Section and Division code"
   ]
  },
  {
   "cell_type": "code",
   "execution_count": 48,
   "id": "5e25b0a6",
   "metadata": {},
   "outputs": [
    {
     "name": "stdout",
     "output_type": "stream",
     "text": [
      "                                            Division  \\\n",
      "0  A01 Crop and animal production, hunting and re...   \n",
      "1  A01 Crop and animal production, hunting and re...   \n",
      "2  A01 Crop and animal production, hunting and re...   \n",
      "\n",
      "                                       Division Name Div_Sec Section  \\\n",
      "0  Crop and animal production, hunting and relate...     A01       A   \n",
      "1  Crop and animal production, hunting and relate...     A01       A   \n",
      "2  Crop and animal production, hunting and relate...     A01       A   \n",
      "\n",
      "  Division code User                 Time  Energy_cons [kWh]  \n",
      "0            01   U1  2016-07-12 10:30:00            20.3325  \n",
      "1            01   U1  2016-07-12 10:45:00            16.8611  \n",
      "2            01   U1  2016-07-12 11:00:00            16.2412  \n"
     ]
    }
   ],
   "source": [
    "import pandas as pd\n",
    "\n",
    "\n",
    "# Division Name (text after the first space)\n",
    "combined_df['Division Name'] = combined_df['Division'].apply(lambda x: x.split(' ', 1)[1])\n",
    "\n",
    "# Div_Sec: first 3 characters\n",
    "combined_df['Div_Sec'] = combined_df['Division'].str[:3]\n",
    "\n",
    "# Division code: last 2 characters of Div_Sec\n",
    "combined_df['Division code'] = combined_df['Div_Sec'].str[1:]\n",
    "\n",
    "# Rename the column \n",
    "combined_df = combined_df.rename(columns={'Value': 'Energy_cons [kWh]'})\n",
    "\n",
    "# Now select and order the columns as you want\n",
    "combined_ec_df = combined_df[['Division', 'Division Name', 'Div_Sec', 'Section', 'Division code', 'User', 'Time', 'Energy_cons [kWh]']]\n",
    "\n",
    "\n",
    "print(combined_ec_df.head(3))"
   ]
  },
  {
   "cell_type": "code",
   "execution_count": 50,
   "id": "cda5d42d",
   "metadata": {},
   "outputs": [
    {
     "name": "stdout",
     "output_type": "stream",
     "text": [
      "['Division', 'Division Name', 'Div_Sec', 'Section', 'Division code', 'User', 'Time', 'Energy_cons [kWh]']\n"
     ]
    }
   ],
   "source": [
    "columns_list = combined_ec_df.columns.tolist()\n",
    "print(columns_list)"
   ]
  },
  {
   "cell_type": "code",
   "execution_count": 51,
   "id": "caeb9839",
   "metadata": {},
   "outputs": [
    {
     "name": "stdout",
     "output_type": "stream",
     "text": [
      "Data types:\n",
      " Division              object\n",
      "Division Name         object\n",
      "Div_Sec               object\n",
      "Section               object\n",
      "Division code         object\n",
      "User                  object\n",
      "Time                  object\n",
      "Energy_cons [kWh]    float64\n",
      "dtype: object\n"
     ]
    }
   ],
   "source": [
    "print(\"Data types:\\n\", combined_ec_df.dtypes)"
   ]
  },
  {
   "cell_type": "code",
   "execution_count": 38,
   "id": "9f5cd822",
   "metadata": {},
   "outputs": [
    {
     "name": "stdout",
     "output_type": "stream",
     "text": [
      "Number of rows: 55277891\n"
     ]
    }
   ],
   "source": [
    "num_rows = len(combined_ec_df)\n",
    "print(f\"Number of rows: {num_rows}\")"
   ]
  },
  {
   "cell_type": "markdown",
   "id": "914339f6",
   "metadata": {},
   "source": [
    "### save dataftame combined_ec_df as csv"
   ]
  },
  {
   "cell_type": "code",
   "execution_count": 39,
   "id": "a5c92fb1",
   "metadata": {},
   "outputs": [],
   "source": [
    "directory = r'C:/Users/dmarc/Desktop/EWELD_Project/EWELD'\n",
    "file_path = os.path.join(directory, 'appended_Electricity_Consumption.csv')\n",
    "\n",
    "# Create the directory if it does not exist\n",
    "#os.makedirs(directory, exist_ok=True)\n",
    "\n",
    "# Save the DataFrame to a CSV file with the index column\n",
    "combined_ec_df.to_csv(file_path, index=True)"
   ]
  },
  {
   "cell_type": "markdown",
   "id": "f09baf10",
   "metadata": {},
   "source": [
    "### Save as pickle combined_ec_df"
   ]
  },
  {
   "cell_type": "code",
   "execution_count": 52,
   "id": "93612894",
   "metadata": {},
   "outputs": [],
   "source": [
    "import os\n",
    "\n",
    "directory = r'C:/Users/dmarc/Desktop/EWELD_Project/EWELD'\n",
    "file_name = 'combined_ec_df.pkl'\n",
    "file_path = os.path.join(directory, file_name)\n",
    "\n",
    "# Create the directory if it does not exist\n",
    "os.makedirs(directory, exist_ok=True)\n",
    "\n",
    "# Save the DataFrame as a pickle file\n",
    "combined_ec_df.to_pickle(file_path)\n",
    "\n"
   ]
  }
 ],
 "metadata": {
  "kernelspec": {
   "display_name": "Python 3 (ipykernel)",
   "language": "python",
   "name": "python3"
  },
  "language_info": {
   "codemirror_mode": {
    "name": "ipython",
    "version": 3
   },
   "file_extension": ".py",
   "mimetype": "text/x-python",
   "name": "python",
   "nbconvert_exporter": "python",
   "pygments_lexer": "ipython3",
   "version": "3.13.3"
  }
 },
 "nbformat": 4,
 "nbformat_minor": 5
}
