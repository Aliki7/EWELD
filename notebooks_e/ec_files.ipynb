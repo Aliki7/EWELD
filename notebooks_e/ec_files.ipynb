{
 "cells": [
  {
   "cell_type": "code",
   "execution_count": 2,
   "id": "87d14a45",
   "metadata": {},
   "outputs": [
    {
     "name": "stdout",
     "output_type": "stream",
     "text": [
      "Current working directory: c:\\Users\\dmarc\\Desktop\\EWELD_Project\\notebooks_e\n"
     ]
    }
   ],
   "source": [
    "import os\n",
    "print(\"Current working directory:\", os.getcwd())\n"
   ]
  },
  {
   "cell_type": "markdown",
   "id": "a6375ede",
   "metadata": {},
   "source": [
    "## Folder strukture Electricity Consumption"
   ]
  },
  {
   "cell_type": "code",
   "execution_count": 12,
   "id": "aa293b00",
   "metadata": {},
   "outputs": [
    {
     "name": "stdout",
     "output_type": "stream",
     "text": [
      "  Section                                           Division User\n",
      "0       A  A01 Crop and animal production, hunting and re...   U1\n",
      "1       A  A01 Crop and animal production, hunting and re...   U2\n",
      "2       A  A01 Crop and animal production, hunting and re...   U3\n",
      "3       A  A01 Crop and animal production, hunting and re...   U4\n",
      "4       A                           A02 Forestry and logging   U5\n"
     ]
    }
   ],
   "source": [
    "import os\n",
    "import pandas as pd\n",
    "\n",
    "root_path = 'C:/Users/dmarc/Desktop/EWELD_Project/EWELD/Electricity Consumption/'\n",
    "\n",
    "# 1. Generate metadata container\n",
    "metadata_ec = {\n",
    "    'Section': [],\n",
    "    'Division': [],\n",
    "    'User': [],\n",
    "    #'Filename': [],\n",
    "    #'Full_Path': []\n",
    "}\n",
    "\n",
    "# 2. Directory traversal with validation\n",
    "for section in sorted(os.listdir(root_path)):\n",
    "    section_path = os.path.join(root_path, section)\n",
    "    if not os.path.isdir(section_path):\n",
    "        continue  \n",
    "    for division in sorted(os.listdir(section_path)):\n",
    "        division_path = os.path.join(section_path, division)\n",
    "        if not os.path.isdir(division_path):\n",
    "            continue\n",
    "            \n",
    "        # 3. CSV file processing\n",
    "        for file in sorted(os.listdir(division_path), \n",
    "                         key=lambda x: int(x[1:-4]) if x.endswith('.csv') else 0):\n",
    "            if file.endswith('.csv'):\n",
    "                metadata_ec['Section'].append(section)\n",
    "                metadata_ec['Division'].append(division)\n",
    "                metadata_ec['User'].append(file[:-4])  # Remove .csv extension\n",
    "                #metadata_ec['Filename'].append(file)\n",
    "                #metadata_ec['Full_Path'].append(os.path.join(division_path, file))\n",
    "\n",
    "# 4. Create structured DataFrame\n",
    "metadata_ec_df = pd.DataFrame(metadata_ec)\n",
    "print(metadata_ec_df.head())\n",
    "\n"
   ]
  },
  {
   "cell_type": "markdown",
   "id": "6505deb8",
   "metadata": {},
   "source": [
    "### second method without lambda\n",
    "lambda is a way to write a small function in one line\n",
    "For example, lambda x: x + 1 is the same as \n",
    "def my_function(x):\n",
    "    return x + 1\n"
   ]
  },
  {
   "cell_type": "code",
   "execution_count": 6,
   "id": "e7e57930",
   "metadata": {},
   "outputs": [
    {
     "name": "stdout",
     "output_type": "stream",
     "text": [
      "['U1.csv', 'U2.csv', 'U10.csv']\n"
     ]
    }
   ],
   "source": [
    "files = ['U10.csv', 'U2.csv', 'U1.csv']\n",
    "sorted_files = sorted(files, key=lambda x: int(x[1:-4]))\n",
    "print(sorted_files)\n",
    "# Output: ['U1.csv', 'U2.csv', 'U10.csv']\n"
   ]
  },
  {
   "cell_type": "code",
   "execution_count": 13,
   "id": "ed4fcc1b",
   "metadata": {},
   "outputs": [],
   "source": [
    "#def function\n",
    "def user_number_to_sort(division_path):\n",
    "    # Check if the file is a CSV\n",
    "    if division_path.endswith('.csv'):\n",
    "        # Remove the first character ('U') and the last 4 characters ('.csv')\n",
    "        number_str = division_path[1:-4]\n",
    "        return int(number_str)\n",
    "    else:\n",
    "        return 0  # For non-CSV files"
   ]
  },
  {
   "cell_type": "code",
   "execution_count": 15,
   "id": "eb0414ca",
   "metadata": {},
   "outputs": [
    {
     "name": "stdout",
     "output_type": "stream",
     "text": [
      "['U385.csv', 'U386.csv']\n",
      "Current working directory: c:\\Users\\dmarc\\Desktop\\EWELD_Project\\notebooks_e\n"
     ]
    }
   ],
   "source": [
    "#use this function to sort\n",
    "files = os.listdir(division_path)\n",
    "files_sorted = sorted(files, key=user_number_to_sort)\n",
    "print(files_sorted)\n",
    "print(\"Current working directory:\", os.getcwd())"
   ]
  },
  {
   "cell_type": "markdown",
   "id": "11ee1238",
   "metadata": {},
   "source": [
    "## the same code for extract file structure but without lambda"
   ]
  },
  {
   "cell_type": "code",
   "execution_count": null,
   "id": "93601745",
   "metadata": {},
   "outputs": [
    {
     "name": "stdout",
     "output_type": "stream",
     "text": [
      "  Section                                           Division User\n",
      "0       A  A01 Crop and animal production, hunting and re...   U1\n",
      "1       A  A01 Crop and animal production, hunting and re...   U2\n",
      "2       A  A01 Crop and animal production, hunting and re...   U3\n",
      "3       A  A01 Crop and animal production, hunting and re...   U4\n",
      "4       A                           A02 Forestry and logging   U5\n"
     ]
    }
   ],
   "source": [
    "import os\n",
    "import pandas as pd\n",
    "\n",
    "root_path = 'C:/Users/dmarc/Desktop/EWELD_Project/EWELD/Electricity Consumption/'\n",
    "\n",
    "# 1. Generate metadata container\n",
    "metadata_ec = {\n",
    "    'Section': [],\n",
    "    'Division': [],\n",
    "    'User': []\n",
    "}\n",
    "\n",
    "# 2. Directory traversal with validation\n",
    "for section in sorted(os.listdir(root_path)):\n",
    "    section_path = os.path.join(root_path, section)\n",
    "    if not os.path.isdir(section_path):\n",
    "        continue  \n",
    "    for division in sorted(os.listdir(section_path)):\n",
    "        division_path = os.path.join(section_path, division)\n",
    "        if not os.path.isdir(division_path):\n",
    "            continue\n",
    "            \n",
    "        # 3. CSV file processing\n",
    "        for file in sorted(os.listdir(division_path), \n",
    "                         key=lambda x: int(x[1:-4]) if x.endswith('.csv') else 0):\n",
    "            if file.endswith('.csv'):\n",
    "                metadata_ec['Section'].append(section)\n",
    "                metadata_ec['Division'].append(division)\n",
    "                def user_number_to_sort(division_path):\n",
    "                    # Check if the file is a CSV\n",
    "                    if division_path.endswith('.csv'):\n",
    "                        # Remove the first character ('U') and the last 4 characters ('.csv')\n",
    "                        number_str = division_path[1:-4]\n",
    "                        return int(number_str)\n",
    "                    else:\n",
    "                        return 0  # For non-CSV files\n",
    "                metadata_ec['User'].append(file[:-4])  # Remove .csv extension\n",
    "\n",
    "# 4. Create structured DataFrame\n",
    "metadata_ec_df = pd.DataFrame(metadata_ec)\n",
    "print(metadata_ec_df.head())"
   ]
  },
  {
   "cell_type": "code",
   "execution_count": null,
   "id": "02ed65f9",
   "metadata": {},
   "outputs": [
    {
     "name": "stdout",
     "output_type": "stream",
     "text": [
      "First 50 entries:\n",
      "   Section                                           Division User Filename\n",
      "0        A  A01 Crop and animal production, hunting and re...   U1   U1.csv\n",
      "1        A  A01 Crop and animal production, hunting and re...   U2   U2.csv\n",
      "2        A  A01 Crop and animal production, hunting and re...   U3   U3.csv\n",
      "3        A  A01 Crop and animal production, hunting and re...   U4   U4.csv\n",
      "4        A                           A02 Forestry and logging   U5   U5.csv\n",
      "5        A                           A02 Forestry and logging   U6   U6.csv\n",
      "6        A                           A02 Forestry and logging   U7   U7.csv\n",
      "7        A                           A02 Forestry and logging   U8   U8.csv\n",
      "8        A                           A02 Forestry and logging   U9   U9.csv\n",
      "9        A                           A02 Forestry and logging  U10  U10.csv\n",
      "10       C                   C10 Manufacture of food products  U11  U11.csv\n",
      "11       C                   C10 Manufacture of food products  U12  U12.csv\n",
      "12       C                   C10 Manufacture of food products  U13  U13.csv\n",
      "13       C                   C10 Manufacture of food products  U14  U14.csv\n",
      "14       C                   C10 Manufacture of food products  U15  U15.csv\n",
      "15       C                   C10 Manufacture of food products  U16  U16.csv\n",
      "16       C                   C10 Manufacture of food products  U17  U17.csv\n",
      "17       C                   C10 Manufacture of food products  U18  U18.csv\n",
      "18       C                       C11 Manufacture of beverages  U19  U19.csv\n",
      "19       C                       C11 Manufacture of beverages  U20  U20.csv\n",
      "20       C                        C13 Manufacture of textiles  U21  U21.csv\n",
      "21       C                        C13 Manufacture of textiles  U22  U22.csv\n",
      "22       C                        C13 Manufacture of textiles  U23  U23.csv\n",
      "23       C                        C13 Manufacture of textiles  U24  U24.csv\n",
      "24       C                        C13 Manufacture of textiles  U25  U25.csv\n",
      "25       C                        C13 Manufacture of textiles  U26  U26.csv\n",
      "26       C                        C13 Manufacture of textiles  U27  U27.csv\n",
      "27       C                        C13 Manufacture of textiles  U28  U28.csv\n",
      "28       C                        C13 Manufacture of textiles  U29  U29.csv\n",
      "29       C                        C13 Manufacture of textiles  U30  U30.csv\n",
      "30       C                        C13 Manufacture of textiles  U31  U31.csv\n",
      "31       C                        C13 Manufacture of textiles  U32  U32.csv\n",
      "32       C                        C13 Manufacture of textiles  U33  U33.csv\n",
      "33       C                        C13 Manufacture of textiles  U34  U34.csv\n",
      "34       C                        C13 Manufacture of textiles  U35  U35.csv\n",
      "35       C                        C13 Manufacture of textiles  U36  U36.csv\n",
      "36       C                        C13 Manufacture of textiles  U37  U37.csv\n",
      "37       C                        C13 Manufacture of textiles  U38  U38.csv\n",
      "38       C                        C13 Manufacture of textiles  U39  U39.csv\n",
      "39       C                        C13 Manufacture of textiles  U40  U40.csv\n",
      "40       C                        C13 Manufacture of textiles  U41  U41.csv\n",
      "41       C                        C13 Manufacture of textiles  U42  U42.csv\n",
      "42       C                 C14 Manufacture of wearing apparel  U43  U43.csv\n",
      "43       C                 C14 Manufacture of wearing apparel  U44  U44.csv\n",
      "44       C                 C14 Manufacture of wearing apparel  U45  U45.csv\n",
      "45       C                 C14 Manufacture of wearing apparel  U46  U46.csv\n",
      "46       C                 C14 Manufacture of wearing apparel  U47  U47.csv\n",
      "47       C                 C14 Manufacture of wearing apparel  U48  U48.csv\n",
      "48       C                 C14 Manufacture of wearing apparel  U49  U49.csv\n",
      "49       C    C15 Manufacture of leather and related products  U50  U50.csv\n",
      "\n",
      "Total files found: 386\n"
     ]
    }
   ],
   "source": [
    "import os\n",
    "import pandas as pd\n",
    "\n",
    "# Function to extract user number from filename\n",
    "def user_number_to_sort(filename):\n",
    "    \"\"\"Extracts numeric part from filenames like 'U123.csv' for proper sorting\"\"\"\n",
    "    if filename.endswith('.csv'):\n",
    "        try:\n",
    "            # Remove 'U' and '.csv', then convert to number\n",
    "            return int(filename[1:-4])\n",
    "        except ValueError:\n",
    "            return 0  # Handle unexpected formats\n",
    "    return 0  # For non-CSV files\n",
    "\n",
    "# Main script\n",
    "root_path = 'C:/Users/dmarc/Desktop/EWELD_Project/EWELD/Electricity Consumption/'\n",
    "\n",
    "# Initialize metadata container\n",
    "metadata_ec = {\n",
    "    'Section': [],\n",
    "    'Division': [],\n",
    "    'User': [],\n",
    "    'Filename': []\n",
    "}\n",
    "\n",
    "# Process directories\n",
    "for section in sorted(os.listdir(root_path)):\n",
    "    section_path = os.path.join(root_path, section)\n",
    "    \n",
    "    if not os.path.isdir(section_path):\n",
    "        continue  # Skip files\n",
    "    \n",
    "    for division in sorted(os.listdir(section_path)):\n",
    "        division_path = os.path.join(section_path, division)\n",
    "        \n",
    "        if not os.path.isdir(division_path):\n",
    "            continue  # Skip files\n",
    "        \n",
    "        # Get and sort CSV files using our custom function\n",
    "        all_files = os.listdir(division_path)\n",
    "        sorted_files = sorted(all_files, key=user_number_to_sort)\n",
    "        \n",
    "        # Process each CSV file\n",
    "        for filename in sorted_files:\n",
    "            if filename.endswith('.csv'):\n",
    "                metadata_ec['Section'].append(section)\n",
    "                metadata_ec['Division'].append(division)\n",
    "                metadata_ec['User'].append(filename[:-4])  # Remove .csv\n",
    "                metadata_ec['Filename'].append(filename)\n",
    "\n",
    "# Create DataFrame\n",
    "metadata_df_ec = pd.DataFrame(metadata_ec)\n",
    "\n",
    "# Show results\n",
    "print(\"First 50 entries:\")\n",
    "print(metadata_df_ec.head(50))\n",
    "print(\"\\nTotal files found:\", len(metadata_df_ec))\n"
   ]
  }
 ],
 "metadata": {
  "kernelspec": {
   "display_name": "Python 3 (ipykernel)",
   "language": "python",
   "name": "python3"
  },
  "language_info": {
   "codemirror_mode": {
    "name": "ipython",
    "version": 3
   },
   "file_extension": ".py",
   "mimetype": "text/x-python",
   "name": "python",
   "nbconvert_exporter": "python",
   "pygments_lexer": "ipython3",
   "version": "3.13.3"
  }
 },
 "nbformat": 4,
 "nbformat_minor": 5
}
