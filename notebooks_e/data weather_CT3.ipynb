{
 "cells": [
  {
   "cell_type": "code",
   "execution_count": 1,
   "id": "499a9c95",
   "metadata": {},
   "outputs": [],
   "source": [
    "import pandas as pd\n",
    "import os\n",
    "\n",
    "# Define directory and file name\n",
    "directory = r'C:/Users/dmarc/Desktop/EWELD_Project/EWELD/Weather Data/'\n",
    "file_name = 'W3.csv'\n",
    "file_path = os.path.join(directory, file_name)\n",
    "\n",
    "# Load the DataFrame from the pickle file\n",
    "df_W3 = pd.read_csv(file_path)"
   ]
  },
  {
   "cell_type": "code",
   "execution_count": 2,
   "id": "8e6cf388",
   "metadata": {},
   "outputs": [
    {
     "data": {
      "text/plain": [
       "(274751, 9)"
      ]
     },
     "execution_count": 2,
     "metadata": {},
     "output_type": "execute_result"
    }
   ],
   "source": [
    "df_W3.shape"
   ]
  },
  {
   "cell_type": "code",
   "execution_count": 3,
   "id": "84afafea",
   "metadata": {},
   "outputs": [],
   "source": [
    "# Remove the .csv extension\n",
    "location_name = os.path.splitext(file_name)[0]\n",
    "# change received W3 to CT3\n",
    "city_name = location_name.replace(location_name, 'CT3')  # 'CT3'\n",
    "df_W3['City'] = city_name\n"
   ]
  },
  {
   "cell_type": "code",
   "execution_count": 4,
   "id": "1ce80958",
   "metadata": {},
   "outputs": [
    {
     "name": "stdout",
     "output_type": "stream",
     "text": [
      "                  Time  Temperature(F)  Dew Point(F)  Humidity(%) Wind  \\\n",
      "0  2015-01-01 00:00:00          59.000         57.76        93.38    E   \n",
      "1  2015-01-01 00:15:00          59.020         56.28        89.92    E   \n",
      "2  2015-01-01 00:30:00          59.040         54.80        86.46  ENE   \n",
      "3  2015-01-01 00:45:00          59.885         54.36        82.30  ENE   \n",
      "4  2015-01-01 01:00:00          60.730         53.91        78.15  NNE   \n",
      "\n",
      "   Wind Speed(mph)  Wind Gust(mph)  Pressure(in) Condition City  \n",
      "0            4.970             0.0         30.57      Fair  CT3  \n",
      "1            5.465             0.0         30.30      Fair  CT3  \n",
      "2            5.960             0.0         30.04      Fair  CT3  \n",
      "3            6.035             0.0         30.29      Fair  CT3  \n",
      "4            6.110             0.0         30.54      Fair  CT3  \n"
     ]
    }
   ],
   "source": [
    "print(df_W3.head())"
   ]
  },
  {
   "cell_type": "code",
   "execution_count": 6,
   "id": "84e84653",
   "metadata": {},
   "outputs": [
    {
     "name": "stdout",
     "output_type": "stream",
     "text": [
      "                  Time  Temperature(F)  Dew Point(F)  Humidity(%)  \\\n",
      "0  2015-01-01 00:00:00          59.000         57.76        93.38   \n",
      "1  2015-01-01 00:15:00          59.020         56.28        89.92   \n",
      "2  2015-01-01 00:30:00          59.040         54.80        86.46   \n",
      "3  2015-01-01 00:45:00          59.885         54.36        82.30   \n",
      "4  2015-01-01 01:00:00          60.730         53.91        78.15   \n",
      "\n",
      "   Wind Speed(mph)  Pressure(in) City  \n",
      "0            4.970         30.57  CT3  \n",
      "1            5.465         30.30  CT3  \n",
      "2            5.960         30.04  CT3  \n",
      "3            6.035         30.29  CT3  \n",
      "4            6.110         30.54  CT3  \n"
     ]
    }
   ],
   "source": [
    "\n",
    "# Prepare final df\n",
    "selected_columns = [\n",
    "    'Time',\n",
    "    'Temperature(F)',\n",
    "    'Dew Point(F)',\n",
    "    'Humidity(%)',\n",
    "    'Wind Speed(mph)',\n",
    "    'Pressure(in)',\n",
    "    'City'\n",
    "]\n",
    "df_weather_CT3 = df_W3[selected_columns].copy()\n",
    "print(df_weather_CT3.head())"
   ]
  },
  {
   "cell_type": "code",
   "execution_count": 7,
   "id": "dd8513b7",
   "metadata": {},
   "outputs": [],
   "source": [
    "def f_fromFtoC(x):\n",
    "    return (x - 32) / 1.8\n",
    "\n",
    "df_weather_CT3['Temperature(C)'] = df_weather_CT3['Temperature(F)'].apply(f_fromFtoC)"
   ]
  },
  {
   "cell_type": "code",
   "execution_count": 8,
   "id": "70c79251",
   "metadata": {},
   "outputs": [
    {
     "name": "stdout",
     "output_type": "stream",
     "text": [
      "Index(['Time', 'Temperature(F)', 'Dew Point(F)', 'Humidity(%)',\n",
      "       'Wind Speed(mph)', 'Pressure(in)', 'City', 'Temperature(C)'],\n",
      "      dtype='object')\n"
     ]
    }
   ],
   "source": [
    "print(df_weather_CT3.columns)"
   ]
  },
  {
   "cell_type": "code",
   "execution_count": 9,
   "id": "1ad9abb0",
   "metadata": {},
   "outputs": [],
   "source": [
    "#Round Temperature(C) to 2 decimal places\n",
    "df_weather_CT3['Temperature(C)'] = df_weather_CT3['Temperature(C)'].round(2)"
   ]
  },
  {
   "cell_type": "code",
   "execution_count": 10,
   "id": "842412ef",
   "metadata": {},
   "outputs": [],
   "source": [
    "df_weather_CT3.drop('Temperature(F)', axis = 1, inplace=True)"
   ]
  },
  {
   "cell_type": "code",
   "execution_count": null,
   "id": "dcefbc3d",
   "metadata": {},
   "outputs": [],
   "source": [
    "df_weather_CT3\n"
   ]
  },
  {
   "cell_type": "code",
   "execution_count": 12,
   "id": "93dc1e15",
   "metadata": {},
   "outputs": [],
   "source": [
    "\n",
    "# to write file\n",
    "directory = r'C:/Users/dmarc/Desktop/EWELD_Project/EWELD/'\n",
    "file_path = os.path.join(directory, 'weather_CT3_Celsius.csv')\n",
    "\n",
    "# Create the directory if it does not exist\n",
    "os.makedirs(directory, exist_ok=True)\n",
    "\n",
    "# Save the DataFrame to a CSV file (without the index column)\n",
    "df_weather_CT3.to_csv(file_path, index=False)"
   ]
  }
 ],
 "metadata": {
  "kernelspec": {
   "display_name": ".venv",
   "language": "python",
   "name": "python3"
  },
  "language_info": {
   "codemirror_mode": {
    "name": "ipython",
    "version": 3
   },
   "file_extension": ".py",
   "mimetype": "text/x-python",
   "name": "python",
   "nbconvert_exporter": "python",
   "pygments_lexer": "ipython3",
   "version": "3.13.3"
  }
 },
 "nbformat": 4,
 "nbformat_minor": 5
}
