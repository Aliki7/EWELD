{
 "cells": [
  {
   "cell_type": "code",
   "execution_count": 2,
   "id": "1184f2a7",
   "metadata": {},
   "outputs": [
    {
     "name": "stdout",
     "output_type": "stream",
     "text": [
      "['Typhoon data.xlsx', 'W1.csv', 'W2.csv', 'W3.csv']\n"
     ]
    }
   ],
   "source": [
    "import os\n",
    "\n",
    "filepath = 'C:/Users/dmarc/Desktop/EWELD_Project/EWELD/Weather Data/'\n",
    "sections = os.listdir(filepath)\n",
    "sections.sort()\n",
    "print(sections)  # This prints all section folders"
   ]
  },
  {
   "cell_type": "code",
   "execution_count": 3,
   "id": "5e88e533",
   "metadata": {},
   "outputs": [],
   "source": [
    "import pandas as pd\n",
    "pd.set_option('display.width', 600)\n",
    "pd.set_option('display.max_columns', 10)\n",
    "pd.set_option('display.max_rows', 30)"
   ]
  },
  {
   "cell_type": "code",
   "execution_count": 1,
   "id": "619faeaf",
   "metadata": {},
   "outputs": [],
   "source": [
    "import pandas as pd\n",
    "import os\n",
    "\n",
    "# Define directory and file name\n",
    "directory = r'C:/Users/dmarc/Desktop/EWELD_Project/EWELD/Weather Data/'\n",
    "file_name = 'W1.csv'\n",
    "file_path = os.path.join(directory, file_name)\n",
    "\n",
    "# Load the DataFrame from the pickle file\n",
    "df_W1 = pd.read_csv(file_path)"
   ]
  },
  {
   "cell_type": "code",
   "execution_count": 4,
   "id": "3993e5e3",
   "metadata": {},
   "outputs": [
    {
     "name": "stdout",
     "output_type": "stream",
     "text": [
      "<class 'pandas.core.frame.DataFrame'>\n",
      "RangeIndex: 274751 entries, 0 to 274750\n",
      "Data columns (total 9 columns):\n",
      " #   Column           Non-Null Count   Dtype  \n",
      "---  ------           --------------   -----  \n",
      " 0   Time             274751 non-null  object \n",
      " 1   Temperature(F)   274751 non-null  float64\n",
      " 2   Dew Point(F)     274751 non-null  float64\n",
      " 3   Humidity(%)      274751 non-null  float64\n",
      " 4   Wind             274751 non-null  object \n",
      " 5   Wind Speed(mph)  274751 non-null  float64\n",
      " 6   Wind Gust(mph)   274751 non-null  float64\n",
      " 7   Pressure(in)     274751 non-null  float64\n",
      " 8   Condition        274751 non-null  object \n",
      "dtypes: float64(6), object(3)\n",
      "memory usage: 18.9+ MB\n"
     ]
    }
   ],
   "source": [
    "df_W1.info()"
   ]
  },
  {
   "cell_type": "code",
   "execution_count": null,
   "id": "0026ca99",
   "metadata": {},
   "outputs": [
    {
     "data": {
      "text/plain": [
       "array(['Fair', 'Fog', 'Haze', 'Mostly Cloudy', 'Light Rain', 'Cloudy',\n",
       "       'Partly Cloudy', 'Rain', 'Fair / Windy', 'Drizzle',\n",
       "       'Light Drizzle', 'Mist', 'Light Rain Shower', 'Rain Shower',\n",
       "       'Heavy Rain Shower', 'Light Rain / Windy', 'Mostly Cloudy / Windy',\n",
       "       'Light Rain with Thunder', 'Heavy Rain', 'Heavy T-Storm',\n",
       "       'Thunder', 'T-Storm', 'T-Storm / Windy', 'Showers in the Vicinity',\n",
       "       'Thunder / Windy', 'Heavy T-Storm / Windy',\n",
       "       'Partly Cloudy / Windy', 'Cloudy / Windy', 'Sleet', 'Light Sleet',\n",
       "       'Smoke', 'Light Rain Shower / Windy', 'Rain Shower / Windy',\n",
       "       'Squalls / Windy', 'Thunder in the Vicinity',\n",
       "       'Heavy Rain Shower / Windy', 'Rain / Windy', 'Shallow Fog',\n",
       "       'Heavy Rain / Windy', 'Blowing Dust / Windy', 'Squalls',\n",
       "       'Blowing Dust', 'Blowing Sand / Windy'], dtype=object)"
      ]
     },
     "execution_count": 7,
     "metadata": {},
     "output_type": "execute_result"
    }
   ],
   "source": [
    "#Inspect single column of DataFrame - unique values\n",
    "df_W1.Condition.unique()"
   ]
  },
  {
   "cell_type": "code",
   "execution_count": 5,
   "id": "29590dde",
   "metadata": {},
   "outputs": [
    {
     "data": {
      "application/vnd.microsoft.datawrangler.viewer.v0+json": {
       "columns": [
        {
         "name": "index",
         "rawType": "object",
         "type": "string"
        },
        {
         "name": "Temperature(F)",
         "rawType": "float64",
         "type": "float"
        },
        {
         "name": "Dew Point(F)",
         "rawType": "float64",
         "type": "float"
        },
        {
         "name": "Humidity(%)",
         "rawType": "float64",
         "type": "float"
        },
        {
         "name": "Wind Speed(mph)",
         "rawType": "float64",
         "type": "float"
        },
        {
         "name": "Wind Gust(mph)",
         "rawType": "float64",
         "type": "float"
        },
        {
         "name": "Pressure(in)",
         "rawType": "float64",
         "type": "float"
        }
       ],
       "conversionMethod": "pd.DataFrame",
       "ref": "79d57c22-2c8a-45e4-91ac-495b094de27e",
       "rows": [
        [
         "count",
         "274751.0",
         "274751.0",
         "274751.0",
         "274751.0",
         "274751.0",
         "274751.0"
        ],
        [
         "mean",
         "74.90877658316073",
         "63.84657642738336",
         "70.74995050063511",
         "6.152437552547579",
         "0.18270586822249962",
         "29.847931508893502"
        ],
        [
         "std",
         "11.859825099210942",
         "13.356522222093623",
         "17.265798231529587",
         "3.9643817484025448",
         "1.9712856623764383",
         "0.36516524303794845"
        ],
        [
         "min",
         "35.58",
         "0.98",
         "11.96",
         "0.0",
         "0.0",
         "28.55"
        ],
        [
         "25%",
         "66.46",
         "54.69",
         "59.34",
         "3.035",
         "0.0",
         "29.58"
        ],
        [
         "50%",
         "77.08",
         "67.33",
         "73.02",
         "4.59",
         "0.0",
         "29.84"
        ],
        [
         "75%",
         "83.24000000000001",
         "74.86",
         "83.93",
         "8.899999999999999",
         "0.0",
         "30.11"
        ],
        [
         "max",
         "105.28",
         "85.4",
         "102.0",
         "38.45",
         "53.61",
         "31.25"
        ]
       ],
       "shape": {
        "columns": 6,
        "rows": 8
       }
      },
      "text/html": [
       "<div>\n",
       "<style scoped>\n",
       "    .dataframe tbody tr th:only-of-type {\n",
       "        vertical-align: middle;\n",
       "    }\n",
       "\n",
       "    .dataframe tbody tr th {\n",
       "        vertical-align: top;\n",
       "    }\n",
       "\n",
       "    .dataframe thead th {\n",
       "        text-align: right;\n",
       "    }\n",
       "</style>\n",
       "<table border=\"1\" class=\"dataframe\">\n",
       "  <thead>\n",
       "    <tr style=\"text-align: right;\">\n",
       "      <th></th>\n",
       "      <th>Temperature(F)</th>\n",
       "      <th>Dew Point(F)</th>\n",
       "      <th>Humidity(%)</th>\n",
       "      <th>Wind Speed(mph)</th>\n",
       "      <th>Wind Gust(mph)</th>\n",
       "      <th>Pressure(in)</th>\n",
       "    </tr>\n",
       "  </thead>\n",
       "  <tbody>\n",
       "    <tr>\n",
       "      <th>count</th>\n",
       "      <td>274751.000000</td>\n",
       "      <td>274751.000000</td>\n",
       "      <td>274751.000000</td>\n",
       "      <td>274751.000000</td>\n",
       "      <td>274751.000000</td>\n",
       "      <td>274751.000000</td>\n",
       "    </tr>\n",
       "    <tr>\n",
       "      <th>mean</th>\n",
       "      <td>74.908777</td>\n",
       "      <td>63.846576</td>\n",
       "      <td>70.749951</td>\n",
       "      <td>6.152438</td>\n",
       "      <td>0.182706</td>\n",
       "      <td>29.847932</td>\n",
       "    </tr>\n",
       "    <tr>\n",
       "      <th>std</th>\n",
       "      <td>11.859825</td>\n",
       "      <td>13.356522</td>\n",
       "      <td>17.265798</td>\n",
       "      <td>3.964382</td>\n",
       "      <td>1.971286</td>\n",
       "      <td>0.365165</td>\n",
       "    </tr>\n",
       "    <tr>\n",
       "      <th>min</th>\n",
       "      <td>35.580000</td>\n",
       "      <td>0.980000</td>\n",
       "      <td>11.960000</td>\n",
       "      <td>0.000000</td>\n",
       "      <td>0.000000</td>\n",
       "      <td>28.550000</td>\n",
       "    </tr>\n",
       "    <tr>\n",
       "      <th>25%</th>\n",
       "      <td>66.460000</td>\n",
       "      <td>54.690000</td>\n",
       "      <td>59.340000</td>\n",
       "      <td>3.035000</td>\n",
       "      <td>0.000000</td>\n",
       "      <td>29.580000</td>\n",
       "    </tr>\n",
       "    <tr>\n",
       "      <th>50%</th>\n",
       "      <td>77.080000</td>\n",
       "      <td>67.330000</td>\n",
       "      <td>73.020000</td>\n",
       "      <td>4.590000</td>\n",
       "      <td>0.000000</td>\n",
       "      <td>29.840000</td>\n",
       "    </tr>\n",
       "    <tr>\n",
       "      <th>75%</th>\n",
       "      <td>83.240000</td>\n",
       "      <td>74.860000</td>\n",
       "      <td>83.930000</td>\n",
       "      <td>8.900000</td>\n",
       "      <td>0.000000</td>\n",
       "      <td>30.110000</td>\n",
       "    </tr>\n",
       "    <tr>\n",
       "      <th>max</th>\n",
       "      <td>105.280000</td>\n",
       "      <td>85.400000</td>\n",
       "      <td>102.000000</td>\n",
       "      <td>38.450000</td>\n",
       "      <td>53.610000</td>\n",
       "      <td>31.250000</td>\n",
       "    </tr>\n",
       "  </tbody>\n",
       "</table>\n",
       "</div>"
      ],
      "text/plain": [
       "       Temperature(F)   Dew Point(F)    Humidity(%)  Wind Speed(mph)  Wind Gust(mph)   Pressure(in)\n",
       "count   274751.000000  274751.000000  274751.000000    274751.000000   274751.000000  274751.000000\n",
       "mean        74.908777      63.846576      70.749951         6.152438        0.182706      29.847932\n",
       "std         11.859825      13.356522      17.265798         3.964382        1.971286       0.365165\n",
       "min         35.580000       0.980000      11.960000         0.000000        0.000000      28.550000\n",
       "25%         66.460000      54.690000      59.340000         3.035000        0.000000      29.580000\n",
       "50%         77.080000      67.330000      73.020000         4.590000        0.000000      29.840000\n",
       "75%         83.240000      74.860000      83.930000         8.900000        0.000000      30.110000\n",
       "max        105.280000      85.400000     102.000000        38.450000       53.610000      31.250000"
      ]
     },
     "execution_count": 5,
     "metadata": {},
     "output_type": "execute_result"
    }
   ],
   "source": [
    "#Descriptive statistics for numeric columns\n",
    "df_W1.describe()"
   ]
  },
  {
   "cell_type": "code",
   "execution_count": 2,
   "id": "9f198bad",
   "metadata": {},
   "outputs": [],
   "source": [
    "df = df_W1.copy()"
   ]
  },
  {
   "cell_type": "markdown",
   "id": "e917def9",
   "metadata": {},
   "source": [
    "### W1 = CT1\n",
    "take file name remove extension  add additional column name"
   ]
  },
  {
   "cell_type": "code",
   "execution_count": 3,
   "id": "64e8ae70",
   "metadata": {},
   "outputs": [
    {
     "name": "stdout",
     "output_type": "stream",
     "text": [
      "                  Time  Temperature(F)  Dew Point(F)  Humidity(%)  Wind  \\\n",
      "0  2015-01-01 00:00:00          53.170         39.22        59.12  CALM   \n",
      "1  2015-01-01 00:15:00          52.735         39.14        60.90  CALM   \n",
      "2  2015-01-01 00:30:00          52.300         39.06        62.68   ESE   \n",
      "3  2015-01-01 00:45:00          53.395         39.06        59.82   ESE   \n",
      "4  2015-01-01 01:00:00          54.490         39.05        56.97   VAR   \n",
      "\n",
      "   Wind Speed(mph)  Wind Gust(mph)  Pressure(in) Condition City  \n",
      "0            0.000             0.0         30.14      Fair  CT1  \n",
      "1            1.970             0.0         29.89      Fair  CT1  \n",
      "2            3.940             0.0         29.64      Fair  CT1  \n",
      "3            2.955             0.0         29.70      Fair  CT1  \n",
      "4            1.970             0.0         29.76      Fair  CT1  \n"
     ]
    }
   ],
   "source": [
    "# Remove the .csv extension\n",
    "location_name = os.path.splitext(file_name)[0]\n",
    "# change received W1 to CT1\n",
    "city_name = location_name.replace(location_name, 'CT1')  # 'CT1'\n",
    "df['City'] = city_name\n",
    "print(df.head())"
   ]
  },
  {
   "cell_type": "code",
   "execution_count": 4,
   "id": "9d34fa11",
   "metadata": {},
   "outputs": [
    {
     "name": "stdout",
     "output_type": "stream",
     "text": [
      "                  Time  Temperature(F)  Dew Point(F)  Humidity(%)  \\\n",
      "0  2015-01-01 00:00:00          53.170         39.22        59.12   \n",
      "1  2015-01-01 00:15:00          52.735         39.14        60.90   \n",
      "2  2015-01-01 00:30:00          52.300         39.06        62.68   \n",
      "3  2015-01-01 00:45:00          53.395         39.06        59.82   \n",
      "4  2015-01-01 01:00:00          54.490         39.05        56.97   \n",
      "\n",
      "   Wind Speed(mph)  Pressure(in) City  \n",
      "0            0.000         30.14  CT1  \n",
      "1            1.970         29.89  CT1  \n",
      "2            3.940         29.64  CT1  \n",
      "3            2.955         29.70  CT1  \n",
      "4            1.970         29.76  CT1  \n"
     ]
    }
   ],
   "source": [
    "# Prepare final df\n",
    "selected_columns = [\n",
    "    'Time',\n",
    "    'Temperature(F)',\n",
    "    'Dew Point(F)',\n",
    "    'Humidity(%)',\n",
    "    'Wind Speed(mph)',\n",
    "    'Pressure(in)',\n",
    "    'City'\n",
    "]\n",
    "df_weather_CT1 = df[selected_columns].copy()\n",
    "print(df_weather_CT1.head())"
   ]
  },
  {
   "cell_type": "code",
   "execution_count": 9,
   "id": "aeb77d94",
   "metadata": {},
   "outputs": [
    {
     "name": "stdout",
     "output_type": "stream",
     "text": [
      "<class 'pandas.core.frame.DataFrame'>\n",
      "RangeIndex: 274751 entries, 0 to 274750\n",
      "Data columns (total 7 columns):\n",
      " #   Column           Non-Null Count   Dtype  \n",
      "---  ------           --------------   -----  \n",
      " 0   Time             274751 non-null  object \n",
      " 1   Temperature(F)   274751 non-null  float64\n",
      " 2   Dew Point(F)     274751 non-null  float64\n",
      " 3   Humidity(%)      274751 non-null  float64\n",
      " 4   Wind Speed(mph)  274751 non-null  float64\n",
      " 5   Pressure(in)     274751 non-null  float64\n",
      " 6   City             274751 non-null  object \n",
      "dtypes: float64(5), object(2)\n",
      "memory usage: 14.7+ MB\n"
     ]
    }
   ],
   "source": [
    "df_weather_CT1.info()"
   ]
  },
  {
   "cell_type": "code",
   "execution_count": 6,
   "id": "ae4d0ad1",
   "metadata": {},
   "outputs": [],
   "source": [
    "def f_fromFtoC(x):\n",
    "    return (x - 32) / 1.8\n",
    "\n",
    "df_weather_CT1['Temperature(C)'] = df_weather_CT1['Temperature(F)'].apply(f_fromFtoC)"
   ]
  },
  {
   "cell_type": "code",
   "execution_count": 7,
   "id": "42d7ae9b",
   "metadata": {},
   "outputs": [],
   "source": [
    "df_weather_CT1.drop('Temperature(F)', axis = 1, inplace=True)\n",
    "df_weather_CT1['Temperature(C)'] = df_weather_CT1['Temperature(C)'].round(2)"
   ]
  },
  {
   "cell_type": "code",
   "execution_count": 8,
   "id": "2d1db757",
   "metadata": {},
   "outputs": [],
   "source": [
    "import os\n",
    "import pandas as pd\n",
    "\n",
    "# to write file\n",
    "directory = r'C:/Users/dmarc/Desktop/EWELD_Project/EWELD/'\n",
    "file_path = os.path.join(directory, 'weather_CT1_Celsius.csv')\n",
    "\n",
    "# Create the directory if it does not exist\n",
    "os.makedirs(directory, exist_ok=True)\n",
    "\n",
    "# Save the DataFrame to a CSV file (without the index column)\n",
    "df_weather_CT1.to_csv(file_path, index=False)"
   ]
  }
 ],
 "metadata": {
  "kernelspec": {
   "display_name": "Python 3 (ipykernel)",
   "language": "python",
   "name": "python3"
  },
  "language_info": {
   "codemirror_mode": {
    "name": "ipython",
    "version": 3
   },
   "file_extension": ".py",
   "mimetype": "text/x-python",
   "name": "python",
   "nbconvert_exporter": "python",
   "pygments_lexer": "ipython3",
   "version": "3.13.3"
  }
 },
 "nbformat": 4,
 "nbformat_minor": 5
}
