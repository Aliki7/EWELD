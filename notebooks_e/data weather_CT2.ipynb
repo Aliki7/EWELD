{
 "cells": [
  {
   "cell_type": "code",
   "execution_count": 3,
   "id": "99815854",
   "metadata": {},
   "outputs": [],
   "source": [
    "import pandas as pd\n",
    "import os\n",
    "\n",
    "# Define directory and file name\n",
    "directory = r'C:/Users/dmarc/Desktop/EWELD_Project/EWELD/Weather Data/'\n",
    "file_name = 'W2.csv'\n",
    "file_path = os.path.join(directory, file_name)\n",
    "\n",
    "# Load the DataFrame from the pickle file\n",
    "df_W2 = pd.read_csv(file_path)"
   ]
  },
  {
   "cell_type": "code",
   "execution_count": 4,
   "id": "7e98752c",
   "metadata": {},
   "outputs": [
    {
     "name": "stdout",
     "output_type": "stream",
     "text": [
      "<class 'pandas.core.frame.DataFrame'>\n",
      "RangeIndex: 274751 entries, 0 to 274750\n",
      "Data columns (total 9 columns):\n",
      " #   Column           Non-Null Count   Dtype  \n",
      "---  ------           --------------   -----  \n",
      " 0   Time             274751 non-null  object \n",
      " 1   Temperature(F)   274751 non-null  float64\n",
      " 2   Dew Point(F)     274751 non-null  float64\n",
      " 3   Humidity(%)      274751 non-null  float64\n",
      " 4   Wind             274751 non-null  object \n",
      " 5   Wind Speed(mph)  274751 non-null  float64\n",
      " 6   Wind Gust(mph)   274751 non-null  float64\n",
      " 7   Pressure(in)     274751 non-null  float64\n",
      " 8   Condition        0 non-null       float64\n",
      "dtypes: float64(7), object(2)\n",
      "memory usage: 18.9+ MB\n"
     ]
    }
   ],
   "source": [
    "df_W2.info()"
   ]
  },
  {
   "cell_type": "code",
   "execution_count": 7,
   "id": "c983c81c",
   "metadata": {},
   "outputs": [
    {
     "data": {
      "text/plain": [
       "(274751, 9)"
      ]
     },
     "execution_count": 7,
     "metadata": {},
     "output_type": "execute_result"
    }
   ],
   "source": [
    "df_W2.shape"
   ]
  },
  {
   "cell_type": "code",
   "execution_count": 5,
   "id": "148bfa74",
   "metadata": {},
   "outputs": [
    {
     "data": {
      "application/vnd.microsoft.datawrangler.viewer.v0+json": {
       "columns": [
        {
         "name": "index",
         "rawType": "object",
         "type": "string"
        },
        {
         "name": "Temperature(F)",
         "rawType": "float64",
         "type": "float"
        },
        {
         "name": "Dew Point(F)",
         "rawType": "float64",
         "type": "float"
        },
        {
         "name": "Humidity(%)",
         "rawType": "float64",
         "type": "float"
        },
        {
         "name": "Wind Speed(mph)",
         "rawType": "float64",
         "type": "float"
        },
        {
         "name": "Wind Gust(mph)",
         "rawType": "float64",
         "type": "float"
        },
        {
         "name": "Pressure(in)",
         "rawType": "float64",
         "type": "float"
        },
        {
         "name": "Condition",
         "rawType": "float64",
         "type": "float"
        }
       ],
       "conversionMethod": "pd.DataFrame",
       "ref": "d2f83ea7-b538-4ad2-8d50-d2363a4e0e07",
       "rows": [
        [
         "count",
         "274751.0",
         "274751.0",
         "274751.0",
         "274751.0",
         "274751.0",
         "274751.0",
         "0.0"
        ],
        [
         "mean",
         "74.38083011526803",
         "66.74996622396277",
         "78.52651378884883",
         "7.841046638592761",
         "0.13947173986627892",
         "29.780936047548515",
         null
        ],
        [
         "std",
         "10.013615101410402",
         "11.599902215910934",
         "14.013795535685087",
         "3.9012741482934894",
         "1.7169933932275299",
         "0.3379905704640677",
         null
        ],
        [
         "min",
         "29.92",
         "12.03",
         "20.97",
         "0.0",
         "0.0",
         "28.21",
         null
        ],
        [
         "25%",
         "67.0975",
         "59.51",
         "70.07",
         "4.885833333333333",
         "0.0",
         "29.54",
         null
        ],
        [
         "50%",
         "76.41666666666667",
         "69.66",
         "80.84",
         "7.502499999999999",
         "0.0",
         "29.78",
         null
        ],
        [
         "75%",
         "82.0825",
         "76.47",
         "88.93",
         "10.0225",
         "0.0",
         "30.02",
         null
        ],
        [
         "max",
         "98.81",
         "92.25",
         "101.96",
         "58.06",
         "65.89",
         "30.89",
         null
        ]
       ],
       "shape": {
        "columns": 7,
        "rows": 8
       }
      },
      "text/html": [
       "<div>\n",
       "<style scoped>\n",
       "    .dataframe tbody tr th:only-of-type {\n",
       "        vertical-align: middle;\n",
       "    }\n",
       "\n",
       "    .dataframe tbody tr th {\n",
       "        vertical-align: top;\n",
       "    }\n",
       "\n",
       "    .dataframe thead th {\n",
       "        text-align: right;\n",
       "    }\n",
       "</style>\n",
       "<table border=\"1\" class=\"dataframe\">\n",
       "  <thead>\n",
       "    <tr style=\"text-align: right;\">\n",
       "      <th></th>\n",
       "      <th>Temperature(F)</th>\n",
       "      <th>Dew Point(F)</th>\n",
       "      <th>Humidity(%)</th>\n",
       "      <th>Wind Speed(mph)</th>\n",
       "      <th>Wind Gust(mph)</th>\n",
       "      <th>Pressure(in)</th>\n",
       "      <th>Condition</th>\n",
       "    </tr>\n",
       "  </thead>\n",
       "  <tbody>\n",
       "    <tr>\n",
       "      <th>count</th>\n",
       "      <td>274751.000000</td>\n",
       "      <td>274751.000000</td>\n",
       "      <td>274751.000000</td>\n",
       "      <td>274751.000000</td>\n",
       "      <td>274751.000000</td>\n",
       "      <td>274751.000000</td>\n",
       "      <td>0.0</td>\n",
       "    </tr>\n",
       "    <tr>\n",
       "      <th>mean</th>\n",
       "      <td>74.380830</td>\n",
       "      <td>66.749966</td>\n",
       "      <td>78.526514</td>\n",
       "      <td>7.841047</td>\n",
       "      <td>0.139472</td>\n",
       "      <td>29.780936</td>\n",
       "      <td>NaN</td>\n",
       "    </tr>\n",
       "    <tr>\n",
       "      <th>std</th>\n",
       "      <td>10.013615</td>\n",
       "      <td>11.599902</td>\n",
       "      <td>14.013796</td>\n",
       "      <td>3.901274</td>\n",
       "      <td>1.716993</td>\n",
       "      <td>0.337991</td>\n",
       "      <td>NaN</td>\n",
       "    </tr>\n",
       "    <tr>\n",
       "      <th>min</th>\n",
       "      <td>29.920000</td>\n",
       "      <td>12.030000</td>\n",
       "      <td>20.970000</td>\n",
       "      <td>0.000000</td>\n",
       "      <td>0.000000</td>\n",
       "      <td>28.210000</td>\n",
       "      <td>NaN</td>\n",
       "    </tr>\n",
       "    <tr>\n",
       "      <th>25%</th>\n",
       "      <td>67.097500</td>\n",
       "      <td>59.510000</td>\n",
       "      <td>70.070000</td>\n",
       "      <td>4.885833</td>\n",
       "      <td>0.000000</td>\n",
       "      <td>29.540000</td>\n",
       "      <td>NaN</td>\n",
       "    </tr>\n",
       "    <tr>\n",
       "      <th>50%</th>\n",
       "      <td>76.416667</td>\n",
       "      <td>69.660000</td>\n",
       "      <td>80.840000</td>\n",
       "      <td>7.502500</td>\n",
       "      <td>0.000000</td>\n",
       "      <td>29.780000</td>\n",
       "      <td>NaN</td>\n",
       "    </tr>\n",
       "    <tr>\n",
       "      <th>75%</th>\n",
       "      <td>82.082500</td>\n",
       "      <td>76.470000</td>\n",
       "      <td>88.930000</td>\n",
       "      <td>10.022500</td>\n",
       "      <td>0.000000</td>\n",
       "      <td>30.020000</td>\n",
       "      <td>NaN</td>\n",
       "    </tr>\n",
       "    <tr>\n",
       "      <th>max</th>\n",
       "      <td>98.810000</td>\n",
       "      <td>92.250000</td>\n",
       "      <td>101.960000</td>\n",
       "      <td>58.060000</td>\n",
       "      <td>65.890000</td>\n",
       "      <td>30.890000</td>\n",
       "      <td>NaN</td>\n",
       "    </tr>\n",
       "  </tbody>\n",
       "</table>\n",
       "</div>"
      ],
      "text/plain": [
       "       Temperature(F)   Dew Point(F)    Humidity(%)  Wind Speed(mph)  \\\n",
       "count   274751.000000  274751.000000  274751.000000    274751.000000   \n",
       "mean        74.380830      66.749966      78.526514         7.841047   \n",
       "std         10.013615      11.599902      14.013796         3.901274   \n",
       "min         29.920000      12.030000      20.970000         0.000000   \n",
       "25%         67.097500      59.510000      70.070000         4.885833   \n",
       "50%         76.416667      69.660000      80.840000         7.502500   \n",
       "75%         82.082500      76.470000      88.930000        10.022500   \n",
       "max         98.810000      92.250000     101.960000        58.060000   \n",
       "\n",
       "       Wind Gust(mph)   Pressure(in)  Condition  \n",
       "count   274751.000000  274751.000000        0.0  \n",
       "mean         0.139472      29.780936        NaN  \n",
       "std          1.716993       0.337991        NaN  \n",
       "min          0.000000      28.210000        NaN  \n",
       "25%          0.000000      29.540000        NaN  \n",
       "50%          0.000000      29.780000        NaN  \n",
       "75%          0.000000      30.020000        NaN  \n",
       "max         65.890000      30.890000        NaN  "
      ]
     },
     "execution_count": 5,
     "metadata": {},
     "output_type": "execute_result"
    }
   ],
   "source": [
    "df_W2.describe()"
   ]
  },
  {
   "cell_type": "code",
   "execution_count": 8,
   "id": "e283c12e",
   "metadata": {},
   "outputs": [],
   "source": [
    "df = df_W2.copy()"
   ]
  },
  {
   "cell_type": "markdown",
   "id": "9f50654c",
   "metadata": {},
   "source": [
    "### W2 = CT2\n",
    "take file name remove extension  add additional column name"
   ]
  },
  {
   "cell_type": "code",
   "execution_count": null,
   "id": "d0827076",
   "metadata": {},
   "outputs": [
    {
     "name": "stdout",
     "output_type": "stream",
     "text": [
      "                  Time  Temperature(F)  Dew Point(F)  Humidity(%) Wind  \\\n",
      "0  2015-01-01 00:00:00           54.34         46.47        75.22  ENE   \n",
      "1  2015-01-01 00:15:00           54.34         46.47        75.22  ENE   \n",
      "2  2015-01-01 00:30:00           54.34         46.47        75.22  ENE   \n",
      "3  2015-01-01 00:45:00           54.34         46.47        75.22  ENE   \n",
      "4  2015-01-01 01:00:00           54.34         46.47        75.22  ENE   \n",
      "\n",
      "   Wind Speed(mph)  Wind Gust(mph)  Pressure(in)  Condition City  \n",
      "0             10.9             0.0         29.82        NaN  CT2  \n",
      "1             10.9             0.0         29.82        NaN  CT2  \n",
      "2             10.9             0.0         29.82        NaN  CT2  \n",
      "3             10.9             0.0         29.82        NaN  CT2  \n",
      "4             10.9             0.0         29.82        NaN  CT2  \n"
     ]
    }
   ],
   "source": [
    "# Remove the .csv extension\n",
    "location_name = os.path.splitext(file_name)[0]\n",
    "# change received W2 to CT2\n",
    "city_name = location_name.replace(location_name, 'CT2')\n",
    "df['City'] = city_name\n",
    "print(df.head())"
   ]
  },
  {
   "cell_type": "code",
   "execution_count": 10,
   "id": "b256989b",
   "metadata": {},
   "outputs": [
    {
     "name": "stdout",
     "output_type": "stream",
     "text": [
      "                  Time  Temperature(F)  Dew Point(F)  Humidity(%)  \\\n",
      "0  2015-01-01 00:00:00           54.34         46.47        75.22   \n",
      "1  2015-01-01 00:15:00           54.34         46.47        75.22   \n",
      "2  2015-01-01 00:30:00           54.34         46.47        75.22   \n",
      "3  2015-01-01 00:45:00           54.34         46.47        75.22   \n",
      "4  2015-01-01 01:00:00           54.34         46.47        75.22   \n",
      "\n",
      "   Wind Speed(mph)  Pressure(in) City  \n",
      "0             10.9         29.82  CT2  \n",
      "1             10.9         29.82  CT2  \n",
      "2             10.9         29.82  CT2  \n",
      "3             10.9         29.82  CT2  \n",
      "4             10.9         29.82  CT2  \n"
     ]
    }
   ],
   "source": [
    "# Prepare final df\n",
    "selected_columns = [\n",
    "    'Time',\n",
    "    'Temperature(F)',\n",
    "    'Dew Point(F)',\n",
    "    'Humidity(%)',\n",
    "    'Wind Speed(mph)',\n",
    "    'Pressure(in)',\n",
    "    'City'\n",
    "]\n",
    "df_weather_CT2 = df[selected_columns].copy()\n",
    "print(df_weather_CT2.head())"
   ]
  },
  {
   "cell_type": "code",
   "execution_count": 13,
   "id": "92c46604",
   "metadata": {},
   "outputs": [
    {
     "name": "stdout",
     "output_type": "stream",
     "text": [
      "<class 'pandas.core.frame.DataFrame'>\n",
      "RangeIndex: 274751 entries, 0 to 274750\n",
      "Data columns (total 7 columns):\n",
      " #   Column           Non-Null Count   Dtype  \n",
      "---  ------           --------------   -----  \n",
      " 0   Time             274751 non-null  object \n",
      " 1   Temperature(F)   274751 non-null  float64\n",
      " 2   Dew Point(F)     274751 non-null  float64\n",
      " 3   Humidity(%)      274751 non-null  float64\n",
      " 4   Wind Speed(mph)  274751 non-null  float64\n",
      " 5   Pressure(in)     274751 non-null  float64\n",
      " 6   City             274751 non-null  object \n",
      "dtypes: float64(5), object(2)\n",
      "memory usage: 14.7+ MB\n"
     ]
    }
   ],
   "source": [
    "df_weather_CT2.info()"
   ]
  },
  {
   "cell_type": "markdown",
   "id": "f267bc3b",
   "metadata": {},
   "source": [
    "### Fahrenheit to Celsius formula\n",
    "(°F – 32) x 1.8 = °C"
   ]
  },
  {
   "cell_type": "code",
   "execution_count": 14,
   "id": "06a22895",
   "metadata": {},
   "outputs": [],
   "source": [
    "def f_fromFtoC(x):\n",
    "    return (x - 32) / 1.8\n",
    "\n",
    "df_weather_CT2['Temperature(C)'] = df_weather_CT2['Temperature(F)'].apply(f_fromFtoC)"
   ]
  },
  {
   "cell_type": "code",
   "execution_count": 16,
   "id": "0b547cdb",
   "metadata": {},
   "outputs": [
    {
     "name": "stdout",
     "output_type": "stream",
     "text": [
      "Index(['Time', 'Temperature(F)', 'Dew Point(F)', 'Humidity(%)',\n",
      "       'Wind Speed(mph)', 'Pressure(in)', 'City', 'Temperature(C)'],\n",
      "      dtype='object')\n"
     ]
    }
   ],
   "source": [
    "print(df_weather_CT2.columns)"
   ]
  },
  {
   "cell_type": "code",
   "execution_count": 23,
   "id": "a8ec020b",
   "metadata": {},
   "outputs": [],
   "source": [
    "df_weather_CT2.drop('Temperature(F)', axis = 1, inplace=True)"
   ]
  },
  {
   "cell_type": "markdown",
   "id": "c659f835",
   "metadata": {},
   "source": [
    "Round Temperature(C) to 2 decimal places"
   ]
  },
  {
   "cell_type": "code",
   "execution_count": null,
   "id": "b52a0047",
   "metadata": {},
   "outputs": [],
   "source": [
    "df_weather_CT2['Temperature(C)'] = df_weather_CT2['Temperature(C)'].round(2)"
   ]
  },
  {
   "cell_type": "code",
   "execution_count": 25,
   "id": "cf737f7d",
   "metadata": {},
   "outputs": [
    {
     "data": {
      "application/vnd.microsoft.datawrangler.viewer.v0+json": {
       "columns": [
        {
         "name": "index",
         "rawType": "int64",
         "type": "integer"
        },
        {
         "name": "Time",
         "rawType": "object",
         "type": "string"
        },
        {
         "name": "Dew Point(F)",
         "rawType": "float64",
         "type": "float"
        },
        {
         "name": "Humidity(%)",
         "rawType": "float64",
         "type": "float"
        },
        {
         "name": "Wind Speed(mph)",
         "rawType": "float64",
         "type": "float"
        },
        {
         "name": "Pressure(in)",
         "rawType": "float64",
         "type": "float"
        },
        {
         "name": "City",
         "rawType": "object",
         "type": "string"
        },
        {
         "name": "Temperature(C)",
         "rawType": "float64",
         "type": "float"
        }
       ],
       "conversionMethod": "pd.DataFrame",
       "ref": "8de547c0-8dce-4a49-8ddf-d11e4b5fdd52",
       "rows": [
        [
         "0",
         "2015-01-01 00:00:00",
         "46.47",
         "75.22",
         "10.9",
         "29.82",
         "CT2",
         "12.41"
        ],
        [
         "1",
         "2015-01-01 00:15:00",
         "46.47",
         "75.22",
         "10.9",
         "29.82",
         "CT2",
         "12.41"
        ],
        [
         "2",
         "2015-01-01 00:30:00",
         "46.47",
         "75.22",
         "10.9",
         "29.82",
         "CT2",
         "12.41"
        ],
        [
         "3",
         "2015-01-01 00:45:00",
         "46.47",
         "75.22",
         "10.9",
         "29.82",
         "CT2",
         "12.41"
        ],
        [
         "4",
         "2015-01-01 01:00:00",
         "46.47",
         "75.22",
         "10.9",
         "29.82",
         "CT2",
         "12.41"
        ],
        [
         "5",
         "2015-01-01 01:15:00",
         "46.47",
         "75.22",
         "10.9",
         "29.82",
         "CT2",
         "12.41"
        ],
        [
         "6",
         "2015-01-01 01:30:00",
         "46.47",
         "75.22",
         "10.9",
         "29.82",
         "CT2",
         "12.41"
        ],
        [
         "7",
         "2015-01-01 01:45:00",
         "46.47",
         "75.22",
         "10.9",
         "29.82",
         "CT2",
         "12.41"
        ],
        [
         "8",
         "2015-01-01 02:00:00",
         "46.47",
         "75.22",
         "10.9",
         "29.82",
         "CT2",
         "12.41"
        ],
        [
         "9",
         "2015-01-01 02:15:00",
         "45.9",
         "73.75",
         "10.891666666666667",
         "29.88",
         "CT2",
         "12.41"
        ],
        [
         "10",
         "2015-01-01 02:30:00",
         "45.32",
         "72.29",
         "10.883333333333333",
         "29.94",
         "CT2",
         "12.4"
        ],
        [
         "11",
         "2015-01-01 02:45:00",
         "44.75",
         "70.82",
         "10.875",
         "30.0",
         "CT2",
         "12.4"
        ],
        [
         "12",
         "2015-01-01 03:00:00",
         "44.18",
         "69.36",
         "10.866666666666667",
         "30.06",
         "CT2",
         "12.4"
        ],
        [
         "13",
         "2015-01-01 03:15:00",
         "43.6",
         "67.89",
         "10.858333333333334",
         "30.12",
         "CT2",
         "12.39"
        ],
        [
         "14",
         "2015-01-01 03:30:00",
         "43.03",
         "66.42",
         "10.85",
         "30.18",
         "CT2",
         "12.39"
        ],
        [
         "15",
         "2015-01-01 03:45:00",
         "42.46",
         "64.96",
         "10.841666666666669",
         "30.25",
         "CT2",
         "12.39"
        ],
        [
         "16",
         "2015-01-01 04:00:00",
         "41.88",
         "63.49",
         "10.833333333333334",
         "30.31",
         "CT2",
         "12.38"
        ],
        [
         "17",
         "2015-01-01 04:15:00",
         "41.31",
         "62.03",
         "10.825",
         "30.37",
         "CT2",
         "12.38"
        ],
        [
         "18",
         "2015-01-01 04:30:00",
         "40.74",
         "60.56",
         "10.816666666666666",
         "30.43",
         "CT2",
         "12.37"
        ],
        [
         "19",
         "2015-01-01 04:45:00",
         "40.16",
         "59.1",
         "10.808333333333334",
         "30.49",
         "CT2",
         "12.37"
        ],
        [
         "20",
         "2015-01-01 05:00:00",
         "39.59",
         "57.63",
         "10.8",
         "30.55",
         "CT2",
         "12.37"
        ],
        [
         "21",
         "2015-01-01 05:15:00",
         "39.68",
         "57.67",
         "10.806666666666668",
         "30.47",
         "CT2",
         "12.34"
        ],
        [
         "22",
         "2015-01-01 05:30:00",
         "39.77",
         "57.7",
         "10.813333333333334",
         "30.4",
         "CT2",
         "12.32"
        ],
        [
         "23",
         "2015-01-01 05:45:00",
         "39.86",
         "57.74",
         "10.82",
         "30.32",
         "CT2",
         "12.29"
        ],
        [
         "24",
         "2015-01-01 06:00:00",
         "39.94",
         "57.78",
         "10.826666666666668",
         "30.24",
         "CT2",
         "12.27"
        ],
        [
         "25",
         "2015-01-01 06:15:00",
         "40.03",
         "57.81",
         "10.833333333333334",
         "30.17",
         "CT2",
         "12.24"
        ],
        [
         "26",
         "2015-01-01 06:30:00",
         "40.12",
         "57.85",
         "10.84",
         "30.09",
         "CT2",
         "12.22"
        ],
        [
         "27",
         "2015-01-01 06:45:00",
         "40.21",
         "57.89",
         "10.846666666666668",
         "30.01",
         "CT2",
         "12.19"
        ],
        [
         "28",
         "2015-01-01 07:00:00",
         "40.3",
         "57.92",
         "10.853333333333332",
         "29.94",
         "CT2",
         "12.17"
        ],
        [
         "29",
         "2015-01-01 07:15:00",
         "40.38",
         "57.96",
         "10.86",
         "29.86",
         "CT2",
         "12.14"
        ],
        [
         "30",
         "2015-01-01 07:30:00",
         "40.47",
         "58.0",
         "10.866666666666667",
         "29.78",
         "CT2",
         "12.12"
        ],
        [
         "31",
         "2015-01-01 07:45:00",
         "40.56",
         "58.03",
         "10.873333333333337",
         "29.71",
         "CT2",
         "12.09"
        ],
        [
         "32",
         "2015-01-01 08:00:00",
         "40.65",
         "58.07",
         "10.88",
         "29.63",
         "CT2",
         "12.07"
        ],
        [
         "33",
         "2015-01-01 08:15:00",
         "40.5",
         "56.58",
         "10.88",
         "29.68",
         "CT2",
         "12.5"
        ],
        [
         "34",
         "2015-01-01 08:30:00",
         "40.35",
         "55.08",
         "10.88",
         "29.73",
         "CT2",
         "12.93"
        ],
        [
         "35",
         "2015-01-01 08:45:00",
         "40.2",
         "53.59",
         "10.88",
         "29.78",
         "CT2",
         "13.36"
        ],
        [
         "36",
         "2015-01-01 09:00:00",
         "40.05",
         "52.09",
         "10.88",
         "29.83",
         "CT2",
         "13.79"
        ],
        [
         "37",
         "2015-01-01 09:15:00",
         "39.9",
         "50.6",
         "10.88",
         "29.88",
         "CT2",
         "14.22"
        ],
        [
         "38",
         "2015-01-01 09:30:00",
         "39.75",
         "49.1",
         "10.88",
         "29.93",
         "CT2",
         "14.65"
        ],
        [
         "39",
         "2015-01-01 09:45:00",
         "39.61",
         "47.61",
         "10.88",
         "29.98",
         "CT2",
         "15.08"
        ],
        [
         "40",
         "2015-01-01 10:00:00",
         "39.46",
         "46.12",
         "10.88",
         "30.03",
         "CT2",
         "15.51"
        ],
        [
         "41",
         "2015-01-01 10:15:00",
         "39.31",
         "44.62",
         "10.88",
         "30.08",
         "CT2",
         "15.95"
        ],
        [
         "42",
         "2015-01-01 10:30:00",
         "39.16",
         "43.13",
         "10.88",
         "30.13",
         "CT2",
         "16.38"
        ],
        [
         "43",
         "2015-01-01 10:45:00",
         "39.01",
         "41.63",
         "10.88",
         "30.18",
         "CT2",
         "16.81"
        ],
        [
         "44",
         "2015-01-01 11:00:00",
         "38.86",
         "40.14",
         "10.88",
         "30.23",
         "CT2",
         "17.24"
        ],
        [
         "45",
         "2015-01-01 11:15:00",
         "38.94",
         "39.96",
         "10.565",
         "30.21",
         "CT2",
         "17.39"
        ],
        [
         "46",
         "2015-01-01 11:30:00",
         "39.02",
         "39.78",
         "10.25",
         "30.2",
         "CT2",
         "17.54"
        ],
        [
         "47",
         "2015-01-01 11:45:00",
         "39.1",
         "39.6",
         "9.935",
         "30.18",
         "CT2",
         "17.69"
        ],
        [
         "48",
         "2015-01-01 12:00:00",
         "39.18",
         "39.42",
         "9.62",
         "30.16",
         "CT2",
         "17.84"
        ],
        [
         "49",
         "2015-01-01 12:15:00",
         "39.26",
         "39.24",
         "9.305",
         "30.15",
         "CT2",
         "17.99"
        ]
       ],
       "shape": {
        "columns": 7,
        "rows": 274751
       }
      },
      "text/html": [
       "<div>\n",
       "<style scoped>\n",
       "    .dataframe tbody tr th:only-of-type {\n",
       "        vertical-align: middle;\n",
       "    }\n",
       "\n",
       "    .dataframe tbody tr th {\n",
       "        vertical-align: top;\n",
       "    }\n",
       "\n",
       "    .dataframe thead th {\n",
       "        text-align: right;\n",
       "    }\n",
       "</style>\n",
       "<table border=\"1\" class=\"dataframe\">\n",
       "  <thead>\n",
       "    <tr style=\"text-align: right;\">\n",
       "      <th></th>\n",
       "      <th>Time</th>\n",
       "      <th>Dew Point(F)</th>\n",
       "      <th>Humidity(%)</th>\n",
       "      <th>Wind Speed(mph)</th>\n",
       "      <th>Pressure(in)</th>\n",
       "      <th>City</th>\n",
       "      <th>Temperature(C)</th>\n",
       "    </tr>\n",
       "  </thead>\n",
       "  <tbody>\n",
       "    <tr>\n",
       "      <th>0</th>\n",
       "      <td>2015-01-01 00:00:00</td>\n",
       "      <td>46.47</td>\n",
       "      <td>75.22</td>\n",
       "      <td>10.900000</td>\n",
       "      <td>29.82</td>\n",
       "      <td>CT2</td>\n",
       "      <td>12.41</td>\n",
       "    </tr>\n",
       "    <tr>\n",
       "      <th>1</th>\n",
       "      <td>2015-01-01 00:15:00</td>\n",
       "      <td>46.47</td>\n",
       "      <td>75.22</td>\n",
       "      <td>10.900000</td>\n",
       "      <td>29.82</td>\n",
       "      <td>CT2</td>\n",
       "      <td>12.41</td>\n",
       "    </tr>\n",
       "    <tr>\n",
       "      <th>2</th>\n",
       "      <td>2015-01-01 00:30:00</td>\n",
       "      <td>46.47</td>\n",
       "      <td>75.22</td>\n",
       "      <td>10.900000</td>\n",
       "      <td>29.82</td>\n",
       "      <td>CT2</td>\n",
       "      <td>12.41</td>\n",
       "    </tr>\n",
       "    <tr>\n",
       "      <th>3</th>\n",
       "      <td>2015-01-01 00:45:00</td>\n",
       "      <td>46.47</td>\n",
       "      <td>75.22</td>\n",
       "      <td>10.900000</td>\n",
       "      <td>29.82</td>\n",
       "      <td>CT2</td>\n",
       "      <td>12.41</td>\n",
       "    </tr>\n",
       "    <tr>\n",
       "      <th>4</th>\n",
       "      <td>2015-01-01 01:00:00</td>\n",
       "      <td>46.47</td>\n",
       "      <td>75.22</td>\n",
       "      <td>10.900000</td>\n",
       "      <td>29.82</td>\n",
       "      <td>CT2</td>\n",
       "      <td>12.41</td>\n",
       "    </tr>\n",
       "    <tr>\n",
       "      <th>...</th>\n",
       "      <td>...</td>\n",
       "      <td>...</td>\n",
       "      <td>...</td>\n",
       "      <td>...</td>\n",
       "      <td>...</td>\n",
       "      <td>...</td>\n",
       "      <td>...</td>\n",
       "    </tr>\n",
       "    <tr>\n",
       "      <th>274746</th>\n",
       "      <td>2022-11-01 22:30:00</td>\n",
       "      <td>62.64</td>\n",
       "      <td>86.15</td>\n",
       "      <td>15.213333</td>\n",
       "      <td>29.87</td>\n",
       "      <td>CT2</td>\n",
       "      <td>18.92</td>\n",
       "    </tr>\n",
       "    <tr>\n",
       "      <th>274747</th>\n",
       "      <td>2022-11-01 22:45:00</td>\n",
       "      <td>62.46</td>\n",
       "      <td>85.44</td>\n",
       "      <td>15.621667</td>\n",
       "      <td>29.85</td>\n",
       "      <td>CT2</td>\n",
       "      <td>18.96</td>\n",
       "    </tr>\n",
       "    <tr>\n",
       "      <th>274748</th>\n",
       "      <td>2022-11-01 23:00:00</td>\n",
       "      <td>62.29</td>\n",
       "      <td>84.73</td>\n",
       "      <td>16.030000</td>\n",
       "      <td>29.83</td>\n",
       "      <td>CT2</td>\n",
       "      <td>19.01</td>\n",
       "    </tr>\n",
       "    <tr>\n",
       "      <th>274749</th>\n",
       "      <td>2022-11-01 23:15:00</td>\n",
       "      <td>62.29</td>\n",
       "      <td>84.73</td>\n",
       "      <td>16.030000</td>\n",
       "      <td>29.83</td>\n",
       "      <td>CT2</td>\n",
       "      <td>19.01</td>\n",
       "    </tr>\n",
       "    <tr>\n",
       "      <th>274750</th>\n",
       "      <td>2022-11-01 23:30:00</td>\n",
       "      <td>62.29</td>\n",
       "      <td>84.73</td>\n",
       "      <td>16.030000</td>\n",
       "      <td>29.83</td>\n",
       "      <td>CT2</td>\n",
       "      <td>19.01</td>\n",
       "    </tr>\n",
       "  </tbody>\n",
       "</table>\n",
       "<p>274751 rows × 7 columns</p>\n",
       "</div>"
      ],
      "text/plain": [
       "                       Time  Dew Point(F)  Humidity(%)  Wind Speed(mph)  \\\n",
       "0       2015-01-01 00:00:00         46.47        75.22        10.900000   \n",
       "1       2015-01-01 00:15:00         46.47        75.22        10.900000   \n",
       "2       2015-01-01 00:30:00         46.47        75.22        10.900000   \n",
       "3       2015-01-01 00:45:00         46.47        75.22        10.900000   \n",
       "4       2015-01-01 01:00:00         46.47        75.22        10.900000   \n",
       "...                     ...           ...          ...              ...   \n",
       "274746  2022-11-01 22:30:00         62.64        86.15        15.213333   \n",
       "274747  2022-11-01 22:45:00         62.46        85.44        15.621667   \n",
       "274748  2022-11-01 23:00:00         62.29        84.73        16.030000   \n",
       "274749  2022-11-01 23:15:00         62.29        84.73        16.030000   \n",
       "274750  2022-11-01 23:30:00         62.29        84.73        16.030000   \n",
       "\n",
       "        Pressure(in) City  Temperature(C)  \n",
       "0              29.82  CT2           12.41  \n",
       "1              29.82  CT2           12.41  \n",
       "2              29.82  CT2           12.41  \n",
       "3              29.82  CT2           12.41  \n",
       "4              29.82  CT2           12.41  \n",
       "...              ...  ...             ...  \n",
       "274746         29.87  CT2           18.92  \n",
       "274747         29.85  CT2           18.96  \n",
       "274748         29.83  CT2           19.01  \n",
       "274749         29.83  CT2           19.01  \n",
       "274750         29.83  CT2           19.01  \n",
       "\n",
       "[274751 rows x 7 columns]"
      ]
     },
     "execution_count": 25,
     "metadata": {},
     "output_type": "execute_result"
    }
   ],
   "source": [
    "df_weather_CT2"
   ]
  },
  {
   "cell_type": "code",
   "execution_count": 26,
   "id": "fb4c8e92",
   "metadata": {},
   "outputs": [],
   "source": [
    "import os\n",
    "import pandas as pd\n",
    "\n",
    "# to write file\n",
    "directory = r'C:/Users/dmarc/Desktop/EWELD_Project/EWELD/'\n",
    "file_path = os.path.join(directory, 'weather_CT2_Celsius.csv')\n",
    "\n",
    "# Create the directory if it does not exist\n",
    "os.makedirs(directory, exist_ok=True)\n",
    "\n",
    "# Save the DataFrame to a CSV file (without the index column)\n",
    "df_weather_CT2.to_csv(file_path, index=False)"
   ]
  }
 ],
 "metadata": {
  "kernelspec": {
   "display_name": ".venv",
   "language": "python",
   "name": "python3"
  },
  "language_info": {
   "codemirror_mode": {
    "name": "ipython",
    "version": 3
   },
   "file_extension": ".py",
   "mimetype": "text/x-python",
   "name": "python",
   "nbconvert_exporter": "python",
   "pygments_lexer": "ipython3",
   "version": "3.13.3"
  }
 },
 "nbformat": 4,
 "nbformat_minor": 5
}
