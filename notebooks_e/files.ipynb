{
 "cells": [
  {
   "cell_type": "code",
   "execution_count": 2,
   "id": "65847d0f",
   "metadata": {},
   "outputs": [
    {
     "name": "stdout",
     "output_type": "stream",
     "text": [
      "['C', 'D', 'E', 'F', 'G', 'H', 'I', 'J', 'K', 'L', 'M', 'N', 'O', 'P', 'Q', 'S']\n"
     ]
    }
   ],
   "source": [
    "import pandas as pd\n",
    "import os\n",
    "import numpy as np\n",
    "filepath = 'C:/Users/dmarc/Desktop/EWELD_Project/EWELD/Electricity Consumption/'\n",
    "dirs = os.listdir(filepath)\n",
    "dirs.sort()\n",
    "dirs = dirs[1:]\n",
    "print(dirs)"
   ]
  },
  {
   "cell_type": "code",
   "execution_count": null,
   "id": "e082d415",
   "metadata": {},
   "outputs": [
    {
     "name": "stdout",
     "output_type": "stream",
     "text": [
      "['A', 'C', 'D', 'E', 'F', 'G', 'H', 'I', 'J', 'K', 'L', 'M', 'N', 'O', 'P', 'Q', 'S']\n"
     ]
    }
   ],
   "source": []
  },
  {
   "cell_type": "code",
   "execution_count": null,
   "id": "d9ef86ac",
   "metadata": {},
   "outputs": [],
   "source": [
    "import os\n",
    "\n",
    "filepath = 'C:/Users/dmarc/Desktop/EWELD_Project/EWELD/Electricity Consumption/'\n",
    "sections = os.listdir(filepath)\n",
    "sections.sort()\n",
    "print(sections)  # This prints all section folders, e.g., ['Section_A', 'Section_B', ...]\n"
   ]
  },
  {
   "cell_type": "code",
   "execution_count": 15,
   "id": "6ad6fbb7",
   "metadata": {},
   "outputs": [
    {
     "name": "stdout",
     "output_type": "stream",
     "text": [
      "A: ['A01 Crop and animal production, hunting and related service activities', 'A02 Forestry and logging']\n",
      "C: ['C10 Manufacture of food products', 'C11 Manufacture of beverages', 'C13 Manufacture of textiles', 'C14 Manufacture of wearing apparel', 'C15 Manufacture of leather and related products', 'C16 Manufacture of wood and of products of wood and cork, except furniture; manufacture of articles of straw and plaiting materials', 'C17 Manufacture of paper and paper products', 'C18 Printing and reproduction of recorded media', 'C20 Manufacture of chemicals and chemical products', 'C21 Manufacture of pharmaceuticals, medicinal chemical and botanical products', 'C22 Manufacture of rubber and plastics products', 'C23 Manufacture of other non-metallic mineral products', 'C24 Manufacture of basic metals', 'C25 Manufacture of fabricated metal products, except machinery and equipment', 'C26 Manufacture of computer, electronic and optical products', 'C27 Manufacture of electrical equipment', 'C28 Manufacture of machinery and equipment n.e.c', 'C29 Manufacture of motor vehicles, trailers and semi-trailers', 'C31 Manufacture of furniture', 'C32 Other manufacturing', 'C33 Repair and installation of machinery and equipment']\n",
      "D: ['D35 Electricity, gas, steam and air conditioning supply']\n",
      "E: ['E37 Sewerage']\n",
      "F: ['F41 Construction of buildings', 'F42 Civil engineering', 'F43 Specialized construction activities']\n",
      "G: ['G45 Wholesale and retail trade and repair of motor vehicles and motorcycles']\n",
      "H: ['H52 Warehousing and support activities for transportation', 'H53 Postal and courier activities']\n",
      "I: ['I55 Accommodation', 'I56 Food and beverage service activities']\n",
      "J: ['J62 Computer programming, consultancy and related activities']\n",
      "K: ['K64 Financial service activities, except insurance and pension funding', 'K66 Activities auxiliary to financial service and insurance activities']\n",
      "L: ['L68 Real estate activities']\n",
      "M: ['M71 Architectural and engineering activities; technical testing and analysis']\n",
      "N: ['N80 Security and investigation activities', 'N82 Office administrative, office support and other business support activities']\n",
      "O: ['O84 Public administration and defence; compulsory social security']\n",
      "P: ['P85 Education']\n",
      "Q: ['Q86 Human health activities', 'Q87 Residential care activities']\n",
      "S: ['S96 Other personal service activities']\n"
     ]
    }
   ],
   "source": [
    "for section in sections:\n",
    "    section_path = os.path.join(filepath, section)\n",
    "    if os.path.isdir(section_path):\n",
    "        divisions = os.listdir(section_path)\n",
    "        divisions.sort()\n",
    "        print(f\"{section}: {divisions}\")"
   ]
  },
  {
   "cell_type": "code",
   "execution_count": 16,
   "id": "fe244525",
   "metadata": {},
   "outputs": [
    {
     "name": "stdout",
     "output_type": "stream",
     "text": [
      "A/A01 Crop and animal production, hunting and related service activities: ['U1.csv', 'U2.csv', 'U3.csv', 'U4.csv']\n",
      "A/A02 Forestry and logging: ['U10.csv', 'U5.csv', 'U6.csv', 'U7.csv', 'U8.csv', 'U9.csv']\n",
      "C/C10 Manufacture of food products: ['U11.csv', 'U12.csv', 'U13.csv', 'U14.csv', 'U15.csv', 'U16.csv', 'U17.csv', 'U18.csv']\n",
      "C/C11 Manufacture of beverages: ['U19.csv', 'U20.csv']\n",
      "C/C13 Manufacture of textiles: ['U21.csv', 'U22.csv', 'U23.csv', 'U24.csv', 'U25.csv', 'U26.csv', 'U27.csv', 'U28.csv', 'U29.csv', 'U30.csv', 'U31.csv', 'U32.csv', 'U33.csv', 'U34.csv', 'U35.csv', 'U36.csv', 'U37.csv', 'U38.csv', 'U39.csv', 'U40.csv', 'U41.csv', 'U42.csv']\n",
      "C/C14 Manufacture of wearing apparel: ['U43.csv', 'U44.csv', 'U45.csv', 'U46.csv', 'U47.csv', 'U48.csv', 'U49.csv']\n",
      "C/C15 Manufacture of leather and related products: ['U50.csv', 'U51.csv']\n",
      "C/C16 Manufacture of wood and of products of wood and cork, except furniture; manufacture of articles of straw and plaiting materials: ['U52.csv', 'U53.csv']\n",
      "C/C17 Manufacture of paper and paper products: ['U54.csv', 'U55.csv', 'U56.csv', 'U57.csv', 'U58.csv', 'U59.csv', 'U60.csv', 'U61.csv']\n",
      "C/C18 Printing and reproduction of recorded media: ['U62.csv', 'U63.csv', 'U64.csv', 'U65.csv', 'U66.csv']\n",
      "C/C20 Manufacture of chemicals and chemical products: ['U67.csv']\n",
      "C/C21 Manufacture of pharmaceuticals, medicinal chemical and botanical products: ['U68.csv']\n",
      "C/C22 Manufacture of rubber and plastics products: ['U69.csv', 'U70.csv', 'U71.csv', 'U72.csv', 'U73.csv', 'U74.csv', 'U75.csv', 'U76.csv', 'U77.csv', 'U78.csv', 'U79.csv', 'U80.csv', 'U81.csv', 'U82.csv', 'U83.csv', 'U84.csv', 'U85.csv', 'U86.csv', 'U87.csv', 'U88.csv', 'U89.csv', 'U90.csv', 'U91.csv', 'U92.csv', 'U93.csv', 'U94.csv', 'U95.csv', 'U96.csv', 'U97.csv', 'U98.csv', 'U99.csv']\n",
      "C/C23 Manufacture of other non-metallic mineral products: ['U100.csv', 'U101.csv', 'U102.csv', 'U103.csv', 'U104.csv', 'U105.csv', 'U106.csv', 'U107.csv', 'U108.csv', 'U109.csv', 'U110.csv', 'U111.csv', 'U112.csv', 'U113.csv', 'U114.csv', 'U115.csv', 'U116.csv', 'U117.csv', 'U118.csv', 'U119.csv', 'U120.csv', 'U121.csv', 'U122.csv', 'U123.csv', 'U124.csv', 'U125.csv', 'U126.csv', 'U127.csv', 'U128.csv', 'U129.csv', 'U130.csv', 'U131.csv', 'U132.csv', 'U133.csv']\n",
      "C/C24 Manufacture of basic metals: ['U134.csv', 'U135.csv', 'U136.csv', 'U137.csv', 'U138.csv', 'U139.csv', 'U140.csv', 'U141.csv', 'U142.csv', 'U143.csv', 'U144.csv', 'U145.csv', 'U146.csv', 'U147.csv', 'U148.csv', 'U149.csv', 'U150.csv', 'U151.csv', 'U152.csv', 'U153.csv', 'U154.csv', 'U155.csv', 'U156.csv']\n",
      "C/C25 Manufacture of fabricated metal products, except machinery and equipment: ['U157.csv', 'U158.csv', 'U159.csv', 'U160.csv', 'U161.csv', 'U162.csv', 'U163.csv', 'U164.csv', 'U165.csv', 'U166.csv', 'U167.csv', 'U168.csv', 'U169.csv', 'U170.csv', 'U171.csv', 'U172.csv', 'U173.csv', 'U174.csv', 'U175.csv', 'U176.csv', 'U177.csv', 'U178.csv', 'U179.csv', 'U180.csv', 'U181.csv', 'U182.csv', 'U183.csv', 'U184.csv', 'U185.csv', 'U186.csv', 'U187.csv', 'U188.csv', 'U189.csv', 'U190.csv', 'U191.csv', 'U192.csv', 'U193.csv', 'U194.csv', 'U195.csv', 'U196.csv', 'U197.csv', 'U198.csv', 'U199.csv', 'U200.csv', 'U201.csv']\n",
      "C/C26 Manufacture of computer, electronic and optical products: ['U202.csv', 'U203.csv', 'U204.csv', 'U205.csv', 'U206.csv', 'U207.csv', 'U208.csv', 'U209.csv', 'U210.csv', 'U211.csv', 'U212.csv']\n",
      "C/C27 Manufacture of electrical equipment: ['U213.csv']\n",
      "C/C28 Manufacture of machinery and equipment n.e.c: ['U214.csv', 'U215.csv', 'U216.csv', 'U217.csv', 'U218.csv', 'U219.csv', 'U220.csv', 'U221.csv', 'U222.csv', 'U223.csv', 'U224.csv', 'U225.csv']\n",
      "C/C29 Manufacture of motor vehicles, trailers and semi-trailers: ['U226.csv', 'U227.csv', 'U228.csv', 'U229.csv', 'U230.csv']\n",
      "C/C31 Manufacture of furniture: ['U231.csv', 'U232.csv', 'U233.csv', 'U234.csv', 'U235.csv', 'U236.csv', 'U237.csv', 'U238.csv', 'U239.csv', 'U240.csv', 'U241.csv', 'U242.csv', 'U243.csv', 'U244.csv', 'U245.csv', 'U246.csv', 'U247.csv', 'U248.csv']\n",
      "C/C32 Other manufacturing: ['U249.csv', 'U250.csv', 'U251.csv', 'U252.csv', 'U253.csv', 'U254.csv']\n",
      "C/C33 Repair and installation of machinery and equipment: ['U255.csv']\n",
      "D/D35 Electricity, gas, steam and air conditioning supply: ['U256.csv']\n",
      "E/E37 Sewerage: ['U257.csv', 'U258.csv', 'U259.csv']\n",
      "F/F41 Construction of buildings: ['U260.csv']\n",
      "F/F42 Civil engineering: ['U261.csv', 'U262.csv']\n",
      "F/F43 Specialized construction activities: ['U263.csv']\n",
      "G/G45 Wholesale and retail trade and repair of motor vehicles and motorcycles: ['U264.csv', 'U265.csv', 'U266.csv', 'U267.csv', 'U268.csv', 'U269.csv', 'U270.csv']\n",
      "H/H52 Warehousing and support activities for transportation: ['U271.csv']\n",
      "H/H53 Postal and courier activities: ['U272.csv', 'U273.csv']\n",
      "I/I55 Accommodation: ['U274.csv', 'U275.csv']\n",
      "I/I56 Food and beverage service activities: ['U276.csv', 'U277.csv', 'U278.csv', 'U279.csv']\n",
      "J/J62 Computer programming, consultancy and related activities: ['U280.csv']\n",
      "K/K64 Financial service activities, except insurance and pension funding: ['U281.csv', 'U282.csv', 'U283.csv', 'U284.csv', 'U285.csv', 'U286.csv', 'U287.csv', 'U288.csv', 'U289.csv', 'U290.csv', 'U291.csv', 'U292.csv', 'U293.csv', 'U294.csv', 'U295.csv', 'U296.csv', 'U297.csv']\n",
      "K/K66 Activities auxiliary to financial service and insurance activities: ['U298.csv']\n",
      "L/L68 Real estate activities: ['U299.csv', 'U300.csv', 'U301.csv', 'U302.csv', 'U303.csv', 'U304.csv', 'U305.csv', 'U306.csv', 'U307.csv', 'U308.csv', 'U309.csv', 'U310.csv', 'U311.csv', 'U312.csv', 'U313.csv', 'U314.csv', 'U315.csv', 'U316.csv', 'U317.csv', 'U318.csv', 'U319.csv', 'U320.csv', 'U321.csv', 'U322.csv', 'U323.csv', 'U324.csv', 'U325.csv', 'U326.csv', 'U327.csv', 'U328.csv', 'U329.csv', 'U330.csv', 'U331.csv', 'U332.csv', 'U333.csv', 'U334.csv', 'U335.csv', 'U336.csv', 'U337.csv', 'U338.csv', 'U339.csv', 'U340.csv', 'U341.csv', 'U342.csv', 'U343.csv', 'U344.csv', 'U345.csv', 'U346.csv', 'U347.csv', 'U348.csv', 'U349.csv', 'U350.csv', 'U351.csv', 'U352.csv']\n",
      "M/M71 Architectural and engineering activities; technical testing and analysis: ['U353.csv']\n",
      "N/N80 Security and investigation activities: ['U354.csv']\n",
      "N/N82 Office administrative, office support and other business support activities: ['U355.csv', 'U356.csv', 'U357.csv']\n",
      "O/O84 Public administration and defence; compulsory social security: ['U358.csv', 'U359.csv', 'U360.csv', 'U361.csv', 'U362.csv', 'U363.csv', 'U364.csv', 'U365.csv', 'U366.csv', 'U367.csv', 'U368.csv', 'U369.csv', 'U370.csv', 'U371.csv', 'U372.csv', 'U373.csv', 'U374.csv']\n",
      "P/P85 Education: ['U375.csv', 'U376.csv', 'U377.csv', 'U378.csv', 'U379.csv', 'U380.csv']\n",
      "Q/Q86 Human health activities: ['U381.csv', 'U382.csv']\n",
      "Q/Q87 Residential care activities: ['U383.csv', 'U384.csv']\n",
      "S/S96 Other personal service activities: ['U385.csv', 'U386.csv']\n"
     ]
    }
   ],
   "source": [
    "for section in sections:\n",
    "    section_path = os.path.join(filepath, section)\n",
    "    if os.path.isdir(section_path):\n",
    "        divisions = os.listdir(section_path)\n",
    "        for division in divisions:\n",
    "            division_path = os.path.join(section_path, division)\n",
    "            if os.path.isdir(division_path):\n",
    "                files = os.listdir(division_path)\n",
    "                csv_files = [f for f in files if f.endswith('.csv')]\n",
    "                print(f\"{section}/{division}: {csv_files}\")"
   ]
  },
  {
   "cell_type": "code",
   "execution_count": 24,
   "id": "339a126c",
   "metadata": {},
   "outputs": [
    {
     "name": "stdout",
     "output_type": "stream",
     "text": [
      "                  Time    Value User  \\\n",
      "0  2016-07-12 10:30:00  20.3325   U1   \n",
      "1  2016-07-12 10:45:00  16.8611   U1   \n",
      "2  2016-07-12 11:00:00  16.2412   U1   \n",
      "3  2016-07-12 11:15:00  18.8448   U1   \n",
      "4  2016-07-12 11:30:00  17.3570   U1   \n",
      "\n",
      "                                            Division Section  \n",
      "0  A01 Crop and animal production, hunting and re...       A  \n",
      "1  A01 Crop and animal production, hunting and re...       A  \n",
      "2  A01 Crop and animal production, hunting and re...       A  \n",
      "3  A01 Crop and animal production, hunting and re...       A  \n",
      "4  A01 Crop and animal production, hunting and re...       A  \n"
     ]
    }
   ],
   "source": [
    "import pandas as pd\n",
    "\n",
    "dataframes = []\n",
    "\n",
    "for section in sections:\n",
    "    section_path = os.path.join(filepath, section)\n",
    "    if os.path.isdir(section_path):\n",
    "        divisions = os.listdir(section_path)\n",
    "        for division in divisions:\n",
    "            division_path = os.path.join(section_path, division)\n",
    "            if os.path.isdir(division_path):\n",
    "                files = os.listdir(division_path)\n",
    "                csv_files = [f for f in files if f.endswith('.csv')]\n",
    "                for csv_file in csv_files:\n",
    "                    file_path = os.path.join(division_path, csv_file)\n",
    "                    df = pd.read_csv(file_path)\n",
    "                    df['User'] = os.path.splitext(csv_file)[0]      # e.g., 'U1'\n",
    "                    df['Division'] = division                       # e.g., 'Division_01'\n",
    "                    df['Section'] = section                         # e.g., 'Section_A'\n",
    "                    dataframes.append(df)\n",
    "\n",
    "# Combine all into one DataFrame\n",
    "combined_df = pd.concat(dataframes, ignore_index=True)\n",
    "print(combined_df.head())\n"
   ]
  },
  {
   "cell_type": "code",
   "execution_count": 26,
   "id": "e09f6427",
   "metadata": {},
   "outputs": [
    {
     "name": "stdout",
     "output_type": "stream",
     "text": [
      "Columns in DataFrame: ['Time', 'Value', 'User', 'Division', 'Section']\n"
     ]
    }
   ],
   "source": [
    "print(\"Columns in DataFrame list:\", combined_df.columns.tolist())\n"
   ]
  },
  {
   "cell_type": "code",
   "execution_count": 27,
   "id": "3bc224ee",
   "metadata": {},
   "outputs": [
    {
     "name": "stdout",
     "output_type": "stream",
     "text": [
      "Data types:\n",
      " Time         object\n",
      "Value       float64\n",
      "User         object\n",
      "Division     object\n",
      "Section      object\n",
      "dtype: object\n"
     ]
    }
   ],
   "source": [
    "print(\"Data types:\\n\", combined_df.dtypes)\n"
   ]
  },
  {
   "cell_type": "code",
   "execution_count": 29,
   "id": "1280821c",
   "metadata": {},
   "outputs": [],
   "source": [
    "import pandas as pd\n",
    "from scipy.stats import skew, kurtosis\n",
    "\n",
    "def calc_skew(x):\n",
    "    return skew(x, nan_policy='omit')\n",
    "\n",
    "def calc_kurt(x):\n",
    "    return kurtosis(x, nan_policy='omit', fisher=True)  # Fisher=True matches pandas definition\n",
    "\n",
    "stats = combined_df.groupby(['Section', 'Division'])['Value'].agg(\n",
    "    Mean=('mean'),\n",
    "    Standard_deviation=('std'),\n",
    "    Skew=calc_skew,\n",
    "    Kurtosis=calc_kurt,\n",
    "    **{f'{q}th_percentile': lambda x, q=q: x.quantile(q/100) \n",
    "     for q in [0, 2.5, 50, 97.5, 100]}\n",
    ").round(2).reset_index()\n",
    "\n"
   ]
  },
  {
   "cell_type": "code",
   "execution_count": 30,
   "id": "06de04d1",
   "metadata": {},
   "outputs": [
    {
     "name": "stdout",
     "output_type": "stream",
     "text": [
      "  Section                                           Division   Mean  \\\n",
      "0       A  A01 Crop and animal production, hunting and re...  29.85   \n",
      "1       A                           A02 Forestry and logging  42.95   \n",
      "2       C                   C10 Manufacture of food products  48.56   \n",
      "3       C                       C11 Manufacture of beverages  30.89   \n",
      "4       C                        C13 Manufacture of textiles  64.44   \n",
      "\n",
      "   Standard_deviation  Skew  Kurtosis  0th_percentile  2.5th_percentile  \\\n",
      "0               62.89  4.22     19.57             0.0               0.0   \n",
      "1               78.73  2.88      8.26             0.0               0.0   \n",
      "2               47.75  0.83     -0.34             0.0               0.0   \n",
      "3               37.85  0.79     -1.11             0.0               0.0   \n",
      "4              105.50  2.07      3.67             0.0               0.0   \n",
      "\n",
      "   50th_percentile  97.5th_percentile  100th_percentile  \n",
      "0             8.35             270.89            444.46  \n",
      "1             8.87             325.91            438.98  \n",
      "2            31.81             154.16            217.78  \n",
      "3            10.15             103.76            124.06  \n",
      "4            15.18             356.50            584.76  \n"
     ]
    }
   ],
   "source": [
    "print(stats.head())\n"
   ]
  },
  {
   "cell_type": "markdown",
   "id": "a27ac27e",
   "metadata": {},
   "source": [
    "### the same code for syatistics but without  \n",
    "(**{f'{q}th_percentile': ...}) but beginner-friendly, step-by-step approach with a loop"
   ]
  },
  {
   "cell_type": "code",
   "execution_count": 34,
   "id": "711905cc",
   "metadata": {},
   "outputs": [
    {
     "name": "stdout",
     "output_type": "stream",
     "text": [
      "  Section                                           Division   Mean  \\\n",
      "0       A  A01 Crop and animal production, hunting and re...  29.85   \n",
      "1       A                           A02 Forestry and logging  42.95   \n",
      "2       C                   C10 Manufacture of food products  48.56   \n",
      "3       C                       C11 Manufacture of beverages  30.89   \n",
      "4       C                        C13 Manufacture of textiles  64.44   \n",
      "\n",
      "   Standard deviation  Skew  Kurtosis  0th percentile  2.5th percentile  \\\n",
      "0               62.89  4.22     19.57             0.0               0.0   \n",
      "1               78.73  2.88      8.26             0.0               0.0   \n",
      "2               47.75  0.83     -0.34             0.0               0.0   \n",
      "3               37.85  0.79     -1.11             0.0               0.0   \n",
      "4              105.50  2.07      3.67             0.0               0.0   \n",
      "\n",
      "   50th percentile  97.5th percentile  100th percentile  \n",
      "0             8.35             270.89            444.46  \n",
      "1             8.87             325.91            438.98  \n",
      "2            31.81             154.16            217.78  \n",
      "3            10.15             103.76            124.06  \n",
      "4            15.18             356.50            584.76  \n"
     ]
    }
   ],
   "source": [
    "import pandas as pd\n",
    "from scipy.stats import skew, kurtosis\n",
    "\n",
    "# Prepare an empty list to collect results\n",
    "results = []\n",
    "\n",
    "# Group by Section and Division\n",
    "for (section, division), group in combined_df.groupby(['Section', 'Division']):\n",
    "    row = {}\n",
    "    row['Section'] = section\n",
    "    row['Division'] = division\n",
    "    row['Mean'] = group['Value'].mean()\n",
    "    row['Standard deviation'] = group['Value'].std()\n",
    "    row['Skew'] = skew(group['Value'], nan_policy='omit')\n",
    "    row['Kurtosis'] = kurtosis(group['Value'], nan_policy='omit', fisher=True)\n",
    "    row['0th percentile'] = group['Value'].quantile(0)\n",
    "    row['2.5th percentile'] = group['Value'].quantile(0.025)\n",
    "    row['50th percentile'] = group['Value'].quantile(0.5)\n",
    "    row['97.5th percentile'] = group['Value'].quantile(0.975)\n",
    "    row['100th percentile'] = group['Value'].quantile(1)\n",
    "    results.append(row)\n",
    "\n",
    "# Create DataFrame from results\n",
    "STA = pd.DataFrame(results)\n",
    "\n",
    "# Round for readability\n",
    "STA = STA.round(2)\n",
    "\n",
    "# Save to CSV\n",
    "import os\n",
    "os.makedirs('process_result', exist_ok=True)\n",
    "STA.to_csv('process_result/ec_statistical_summary.csv', index=False, float_format='%.2f')\n",
    "\n",
    "print(STA.head())\n"
   ]
  },
  {
   "cell_type": "code",
   "execution_count": 37,
   "id": "9ee47f38",
   "metadata": {},
   "outputs": [
    {
     "name": "stdout",
     "output_type": "stream",
     "text": [
      "  Section                                           Division User Filename  \\\n",
      "0       A  A01 Crop and animal production, hunting and re...   U1   U1.csv   \n",
      "1       A  A01 Crop and animal production, hunting and re...   U2   U2.csv   \n",
      "2       A  A01 Crop and animal production, hunting and re...   U3   U3.csv   \n",
      "3       A  A01 Crop and animal production, hunting and re...   U4   U4.csv   \n",
      "4       A                           A02 Forestry and logging  U10  U10.csv   \n",
      "\n",
      "                                           Full_Path  \n",
      "0  C:/Users/dmarc/Desktop/EWELD_Project/EWELD/Ele...  \n",
      "1  C:/Users/dmarc/Desktop/EWELD_Project/EWELD/Ele...  \n",
      "2  C:/Users/dmarc/Desktop/EWELD_Project/EWELD/Ele...  \n",
      "3  C:/Users/dmarc/Desktop/EWELD_Project/EWELD/Ele...  \n",
      "4  C:/Users/dmarc/Desktop/EWELD_Project/EWELD/Ele...  \n"
     ]
    }
   ],
   "source": [
    "import pandas as pd\n",
    "import os\n",
    "\n",
    "filepath = 'C:/Users/dmarc/Desktop/EWELD_Project/EWELD/Electricity Consumption/'\n",
    "sections = [d for d in os.listdir(filepath) \n",
    "            if os.path.isdir(os.path.join(filepath, d))]\n",
    "sections.sort()\n",
    "\n",
    "metadataEC_list = []\n",
    "\n",
    "for section in sections:\n",
    "    section_path = os.path.join(filepath, section)\n",
    "    divisions = os.listdir(section_path)\n",
    "    \n",
    "    for division in divisions:\n",
    "        division_path = os.path.join(section_path, division)\n",
    "        if os.path.isdir(division_path):\n",
    "            csv_files = [f for f in os.listdir(division_path) if f.endswith('.csv')]\n",
    "            \n",
    "            for csv_file in csv_files:\n",
    "                # Extract metadata without reading CSV contents\n",
    "                user = os.path.splitext(csv_file)[0]\n",
    "                metadataEC_list.append({\n",
    "                    'Section': section,\n",
    "                    'Division': division,\n",
    "                    'User': user,\n",
    "                    'Filename': csv_file,\n",
    "                    'Full_Path': os.path.join(division_path, csv_file)\n",
    "                })\n",
    "\n",
    "# Create DataFrame from collected metadata Electriciy Consumption\n",
    "metadataEC_df = pd.DataFrame(metadataEC_list)\n",
    "print(metadataEC_df.head())\n"
   ]
  },
  {
   "cell_type": "markdown",
   "id": "a0b887e3",
   "metadata": {},
   "source": [
    "One step-by-step method"
   ]
  },
  {
   "cell_type": "code",
   "execution_count": 19,
   "id": "05de4f55",
   "metadata": {},
   "outputs": [
    {
     "name": "stdout",
     "output_type": "stream",
     "text": [
      "Total users: 386\n",
      "   User                               Division Section                 Time  \\\n",
      "0  U385  S96 Other personal service activities       S  2017-06-04 00:15:00   \n",
      "1  U385  S96 Other personal service activities       S  2017-06-04 00:30:00   \n",
      "2  U385  S96 Other personal service activities       S  2017-06-04 00:45:00   \n",
      "3  U385  S96 Other personal service activities       S  2017-06-04 01:00:00   \n",
      "4  U385  S96 Other personal service activities       S  2017-06-04 01:15:00   \n",
      "\n",
      "     Value  \n",
      "0  39.4706  \n",
      "1  38.3655  \n",
      "2  34.0237  \n",
      "3  36.9445  \n",
      "4  42.8651  \n"
     ]
    }
   ],
   "source": [
    "import pandas as pd\n",
    "from pathlib import Path\n",
    "\n",
    "# 1. Set your root directory\n",
    "root_path = Path('C:/Users/dmarc/Desktop/EWELD_Project/EWELD/Electricity Consumption/')\n",
    "\n",
    "# 2. Find all CSV files (including subfolders)\n",
    "csv_files = list(root_path.glob('**/*.csv'))  # ** = search recursively\n",
    "\n",
    "# 3. Create empty list to store individual DataFrames\n",
    "all_data = []\n",
    "\n",
    "# 4. Process each CSV file\n",
    "for file_path in csv_files:\n",
    "    # Extract metadata from file path\n",
    "    section = file_path.parent.parent.name  # Grandparent folder (Section_A)\n",
    "    division = file_path.parent.name        # Parent folder (Division_01)\n",
    "    user = file_path.stem                   # Filename without extension (U1)\n",
    "    \n",
    "    # Read CSV and add metadata columns\n",
    "    df = pd.read_csv(file_path)\n",
    "    df.insert(0, 'User', user)\n",
    "    df.insert(1, 'Division', division)\n",
    "    df.insert(2, 'Section', section)\n",
    "    \n",
    "    all_data.append(df)\n",
    "\n",
    "# 5. Combine all DataFrames\n",
    "combined_df = pd.concat(all_data, ignore_index=True)\n",
    "\n",
    "# 6. Check results\n",
    "print(f\"Total users: {combined_df['User'].nunique()}\")\n",
    "print(combined_df.head())\n"
   ]
  },
  {
   "cell_type": "code",
   "execution_count": null,
   "id": "ecb6d648",
   "metadata": {},
   "outputs": [],
   "source": []
  }
 ],
 "metadata": {
  "kernelspec": {
   "display_name": "Python 3 (ipykernel)",
   "language": "python",
   "name": "python3"
  },
  "language_info": {
   "codemirror_mode": {
    "name": "ipython",
    "version": 3
   },
   "file_extension": ".py",
   "mimetype": "text/x-python",
   "name": "python",
   "nbconvert_exporter": "python",
   "pygments_lexer": "ipython3",
   "version": "3.13.3"
  }
 },
 "nbformat": 4,
 "nbformat_minor": 5
}
